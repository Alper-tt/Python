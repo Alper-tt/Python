{
 "cells": [
  {
   "cell_type": "code",
   "execution_count": 2,
   "metadata": {},
   "outputs": [],
   "source": [
    "import re"
   ]
  },
  {
   "cell_type": "code",
   "execution_count": 1,
   "metadata": {},
   "outputs": [],
   "source": [
    "######## Ifade ####### Aciklama ######## Örnek ############# Patern ############\n",
    "####### ---------------------------------------------------------------- #######\n",
    "#######    |   ########  veya  #######  slm  #########    selam|slm   ##########\n",
    "#######    ^    ####### baslar  #######  Ahmet  ##########   ^\\w+      #########\n",
    "#######    $   ########  biter   ##### base42   ########     \\d$       #########\n",
    "#######    .   ######  herhangi  #####  abcdef  ########      .*       #########\n",
    "#######    \\   ########  esc     #####  (not)   ########   \\(\\w{3}\\)   #########\n",
    "####### --------------------------------------------------------------- ########\n",
    "################################################################################"
   ]
  },
  {
   "cell_type": "code",
   "execution_count": 51,
   "metadata": {},
   "outputs": [],
   "source": [
    "def mesaj_hissi_bul(mesaj):\n",
    "    hisler = []\n",
    "        \n",
    "    pozitif_patern = r'(merhaba|selam|ask|sevgi|dost|kardes|:\\)+)'\n",
    "    negatif_patern = r'lan|aptal|abv|yeter|birak'\n",
    "    \n",
    "    heyecanli_patern = r'!|[!|?]{2,}$'\n",
    "    sakin_patern = r'^[Tabi+|Hayhay]'\n",
    "    \n",
    "    emin_patern = r'[K|k]esin|[T|t]abi|[E|e]lbet'\n",
    "    kararsiz_patern = r'[B|b]elki|[S|s]anirim'\n",
    "    \n",
    "    if re.search(pozitif_patern, mesaj):\n",
    "        hisler.append('Pozitif')\n",
    "    if re.search(negatif_patern, mesaj):\n",
    "        hisler.append('Negatif')\n",
    "    if re.search(heyecanli_patern, mesaj):\n",
    "        hisler.append('Heyecanli')\n",
    "    if re.search(sakin_patern, mesaj):\n",
    "        hisler.append('Sakin')\n",
    "    if re.search(emin_patern, mesaj):\n",
    "        hisler.append('Emin')\n",
    "    if re.search(kararsiz_patern, mesaj):\n",
    "        hisler.append('Kararsiz')\n",
    "    \n",
    "    return hisler"
   ]
  },
  {
   "cell_type": "code",
   "execution_count": 52,
   "metadata": {},
   "outputs": [
    {
     "name": "stdout",
     "output_type": "stream",
     "text": [
      "Naber abi? :)              \t ['Pozitif']\n",
      "Tabiii ki buyrun           \t ['Sakin', 'Emin']\n",
      "Sacmalamayi birak artik!   \t ['Negatif', 'Heyecanli']\n",
      "Belki yarindan da yakin... \t ['Kararsiz']\n",
      "Elbet birgün bulusacagiz   \t ['Emin']\n"
     ]
    }
   ],
   "source": [
    "cumle1 = \"Naber abi? :)             \"\n",
    "cumle2 = \"Tabiii ki buyrun          \"\n",
    "cumle3 = \"Sacmalamayi birak artik!  \"\n",
    "cumle4 = \"Belki yarindan da yakin...\"\n",
    "cumle5 = \"Elbet birgün bulusacagiz  \"\n",
    "cumleler = [cumle1, cumle2, cumle3, cumle4, cumle5]\n",
    "for cumle in cumleler :\n",
    "    print(cumle, '\\t', mesaj_hissi_bul(cumle))"
   ]
  }
 ],
 "metadata": {
  "kernelspec": {
   "display_name": "Python 3",
   "language": "python",
   "name": "python3"
  },
  "language_info": {
   "codemirror_mode": {
    "name": "ipython",
    "version": 3
   },
   "file_extension": ".py",
   "mimetype": "text/x-python",
   "name": "python",
   "nbconvert_exporter": "python",
   "pygments_lexer": "ipython3",
   "version": "3.8.5"
  }
 },
 "nbformat": 4,
 "nbformat_minor": 4
}
