{
 "cells": [
  {
   "cell_type": "markdown",
   "metadata": {},
   "source": [
    "# IF"
   ]
  },
  {
   "cell_type": "raw",
   "metadata": {},
   "source": [
    "if <koşul sağlanıyorsa>:\n",
    "   <burada yazılanı yap>"
   ]
  },
  {
   "cell_type": "code",
   "execution_count": 4,
   "metadata": {
    "scrolled": true
   },
   "outputs": [
    {
     "name": "stdout",
     "output_type": "stream",
     "text": [
      "Semsiyeni al!\n"
     ]
    }
   ],
   "source": [
    "hava_durumu = 'yagisli'\n",
    "\n",
    "if hava_durumu == 'yagisli':\n",
    "    print(\"Semsiyeni al!\")"
   ]
  },
  {
   "cell_type": "raw",
   "metadata": {},
   "source": [
    "if <koşul sağlanıyorsa>:\n",
    "   <burada yazılanı yap>"
   ]
  },
  {
   "cell_type": "code",
   "execution_count": 1,
   "metadata": {},
   "outputs": [
    {
     "name": "stdout",
     "output_type": "stream",
     "text": [
      "Sikinti yok!\n"
     ]
    }
   ],
   "source": [
    "hava_durumu = 'karli'\n",
    "\n",
    "if hava_durumu == 'yagisli':\n",
    "    print(\"Semsiyeni al!\")\n",
    "else:\n",
    "    print(\"Sikinti yok!\")"
   ]
  },
  {
   "cell_type": "raw",
   "metadata": {},
   "source": [
    "if <koşul sağlanıyorsa>:\n",
    "    <burada yazılanı yap>\n",
    "elif <alternatif kosul saglaniyorsa>:\n",
    "    <burada yazilani yap>\n",
    "else:\n",
    "    <burada yazılanı yap>"
   ]
  },
  {
   "cell_type": "code",
   "execution_count": 3,
   "metadata": {},
   "outputs": [
    {
     "name": "stdout",
     "output_type": "stream",
     "text": [
      "Atkini al!\n"
     ]
    }
   ],
   "source": [
    "hava_durumu = 'karli'\n",
    "\n",
    "if hava_durumu == 'yagisli':\n",
    "    print(\"Semsiyeni al!\")\n",
    "elif hava_durumu == 'karli':\n",
    "    print(\"Atkini al!\")\n",
    "else:\n",
    "    print(\"Sikinti yok!\")"
   ]
  },
  {
   "cell_type": "code",
   "execution_count": 52,
   "metadata": {},
   "outputs": [
    {
     "name": "stdout",
     "output_type": "stream",
     "text": [
      "hadi yine iyisin aq ucundan kurtardin ;)\n"
     ]
    }
   ],
   "source": [
    "yas = 10\n",
    "if yas < 10:\n",
    "    print('burda ne ariyon aq bu yasta?')\n",
    "elif yas == 10:\n",
    "    print('hadi yine iyisin aq ucundan kurtardin ;)')\n",
    "elif yas > 10:\n",
    "    print('buyur dayi iceri ===>')"
   ]
  },
  {
   "cell_type": "code",
   "execution_count": 24,
   "metadata": {
    "scrolled": true
   },
   "outputs": [
    {
     "name": "stdout",
     "output_type": "stream",
     "text": [
      "sen yeterki iste\n",
      "yeni liste ['Alper', 'Alican', 'Metin', 'Suri']\n"
     ]
    }
   ],
   "source": [
    "liste = ['Alper', 'Alican', 'Metin']\n",
    "hedef_kisi = 'Suri'\n",
    "if hedef_kisi in liste:\n",
    "    print('evet burda!')\n",
    "else:\n",
    "    liste.append(hedef_kisi)\n",
    "    print('sen yeterki iste')\n",
    "    print('yeni liste {}'.format(liste))"
   ]
  },
  {
   "cell_type": "code",
   "execution_count": 42,
   "metadata": {
    "scrolled": true
   },
   "outputs": [
    {
     "name": "stdout",
     "output_type": "stream",
     "text": [
      "Yerinde degil baska bir yerde! Aradiginiz kisi bu mu ? ==> Alican\n"
     ]
    }
   ],
   "source": [
    "liste = ['Alper', 'Alican', 'Metin']\n",
    "hedef_kisi = 'Alper'\n",
    "if (hedef_kisi in liste) and (hedef_kisi == liste[1]):\n",
    "    print('Evet yerinde!')\n",
    "elif (hedef_kisi in liste):\n",
    "    print('Yerinde degil baska bir yerde! Aradiginiz kisi bu mu ? ==> {}'.format(liste[1]))\n",
    "else:\n",
    "    print('Hic ugramamis!')"
   ]
  }
 ],
 "metadata": {
  "kernelspec": {
   "display_name": "Python 3",
   "language": "python",
   "name": "python3"
  },
  "language_info": {
   "codemirror_mode": {
    "name": "ipython",
    "version": 3
   },
   "file_extension": ".py",
   "mimetype": "text/x-python",
   "name": "python",
   "nbconvert_exporter": "python",
   "pygments_lexer": "ipython3",
   "version": "3.8.5"
  }
 },
 "nbformat": 4,
 "nbformat_minor": 4
}
