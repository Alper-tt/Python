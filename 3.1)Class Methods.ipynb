{
 "cells": [
  {
   "cell_type": "code",
   "execution_count": 7,
   "metadata": {},
   "outputs": [],
   "source": [
    "class Ucus():\n",
    "    havayolu = 'THY'\n",
    "    \n",
    "    def __init__(self, kod, kalkis, varis, sure, kapasite, yolcu):\n",
    "        self.kod = kod\n",
    "        self.kalkis = kalkis\n",
    "        self.varis = varis\n",
    "        self.sure = sure\n",
    "        self.kapasite = kapasite\n",
    "        self.yolcu = yolcu\n",
    "        \n",
    "    def anons_yap(self):\n",
    "        return '{} sayili ucak {}-{} arasi ucusu {} dakika surecektir.'.format(\n",
    "        self.kod,\n",
    "        self.kalkis,\n",
    "        self.varis,\n",
    "        self.sure)\n",
    "    \n",
    "    def koltuk_sayisi_guncelle(self):\n",
    "        return self.kapasite - self.yolcu\n",
    "    \n",
    "    def bilet_satis(self, bilet_adedi=1):\n",
    "        if self.yolcu + bilet_adedi <= self.kapasite:\n",
    "            self.yolcu += bilet_adedi\n",
    "            return '{} adet bilet satilmistir, kalan koltuk sayisi {}'.format(\n",
    "            bilet_adedi,\n",
    "            self.koltuk_sayisi_guncelle())\n",
    "        else:\n",
    "            return 'Yetersiz koltuk sayisi'\n",
    "    \n",
    "    def bilet_iptal(self ,bilet_adedi=1):\n",
    "        if self.yolcu >= bilet_adedi:\n",
    "            self.yolcu -= bilet_adedi\n",
    "            self.koltuk_sayisi_guncelle()\n",
    "            return '{} adet bilet iptal edilmistir,guncel koltuk sayisi {}'.format(\n",
    "            bilet_adedi, self.koltuk_sayisi_guncelle())\n",
    "        else:\n",
    "            return 'Iptal edilecek kadar bilet yok...'"
   ]
  },
  {
   "cell_type": "code",
   "execution_count": 8,
   "metadata": {},
   "outputs": [],
   "source": [
    "ucus2 = Ucus('iA' , 'IST', 'ANK', 45, 400, 250)"
   ]
  },
  {
   "cell_type": "code",
   "execution_count": 75,
   "metadata": {
    "scrolled": true
   },
   "outputs": [
    {
     "data": {
      "text/plain": [
       "150"
      ]
     },
     "execution_count": 75,
     "metadata": {},
     "output_type": "execute_result"
    }
   ],
   "source": [
    "ucus2.koltuk_sayisi_guncelle()"
   ]
  },
  {
   "cell_type": "code",
   "execution_count": 76,
   "metadata": {
    "scrolled": true
   },
   "outputs": [
    {
     "data": {
      "text/plain": [
       "'1 adet bilet satilmistir, kalan koltuk sayisi 149'"
      ]
     },
     "execution_count": 76,
     "metadata": {},
     "output_type": "execute_result"
    }
   ],
   "source": [
    "ucus2.bilet_satis()"
   ]
  },
  {
   "cell_type": "code",
   "execution_count": 77,
   "metadata": {
    "scrolled": false
   },
   "outputs": [
    {
     "data": {
      "text/plain": [
       "149"
      ]
     },
     "execution_count": 77,
     "metadata": {},
     "output_type": "execute_result"
    }
   ],
   "source": [
    "ucus2.koltuk_sayisi_guncelle()"
   ]
  },
  {
   "cell_type": "code",
   "execution_count": 78,
   "metadata": {
    "scrolled": true
   },
   "outputs": [
    {
     "data": {
      "text/plain": [
       "'1 adet bilet iptal edilmistir,guncel koltuk sayisi 150'"
      ]
     },
     "execution_count": 78,
     "metadata": {},
     "output_type": "execute_result"
    }
   ],
   "source": [
    "ucus2.bilet_iptal(1)"
   ]
  },
  {
   "cell_type": "code",
   "execution_count": 79,
   "metadata": {},
   "outputs": [],
   "source": [
    "class Tren():\n",
    "    istasyon = 'Harbiye'\n",
    "    \n",
    "    def __init__(self, kod, kalkis, varis, vagon_sayisi, kapasite, yolcu):\n",
    "        self.kod = kod\n",
    "        self.kalkis = kalkis\n",
    "        self.varis = varis\n",
    "        self.vagon_sayisi = vagon_sayisi\n",
    "        self.kapasite = kapasite\n",
    "        self.yolcu = yolcu\n",
    "    \n",
    "    def anons(self):\n",
    "        print('{} kodlu, {} vagonlu tren {} istasyonundan kalkicak olup {}-{} arasi seferi {} yolcuyla yapacaktir. Iyi yolculuklar dileriz'\n",
    "              .format(self.kod, self.vagon_sayisi, self.istasyon, self.kalkis,self.varis, self.yolcu ))\n",
    "    \n",
    "    def koltuk_sayisi_guncelle(self):\n",
    "        return self.kapasite - self.yolcu\n",
    "    \n",
    "    def bilet_satis(self, bilet_adedi=1):\n",
    "        if self.yolcu + bilet_adedi <= self.kapasite:\n",
    "            self.yolcu += bilet_adedi\n",
    "            print('{} kadar koltuk satilmistir, kalan koltuk sayisi {}'.format(bilet_adedi, self.koltuk_sayisi_guncelle()))\n",
    "        else:\n",
    "            print('Yetersiz koltuk sayisi')\n",
    "            \n",
    "    def bilet_iptal(self, bilet_adedi=1):\n",
    "        if self.yolcu >= bilet_adedi:\n",
    "            self.yolcu -= bilet_adedi\n",
    "            print('{} adet koltuk iptal edilmistir. Guncel koltuk sayisi {}'.format(bilet_adedi, self.koltuk_sayisi_guncelle()))\n",
    "        else:\n",
    "            print('Iptal edilecek kadar yolcu kaydi yapilmamistir.')"
   ]
  },
  {
   "cell_type": "code",
   "execution_count": 80,
   "metadata": {},
   "outputs": [],
   "source": [
    "tren1 = Tren('EI', 'Eskisehir', 'Istanbul', 8, 100, 50)"
   ]
  },
  {
   "cell_type": "code",
   "execution_count": 81,
   "metadata": {},
   "outputs": [
    {
     "data": {
      "text/plain": [
       "50"
      ]
     },
     "execution_count": 81,
     "metadata": {},
     "output_type": "execute_result"
    }
   ],
   "source": [
    "tren1.koltuk_sayisi_guncelle()"
   ]
  },
  {
   "cell_type": "code",
   "execution_count": 82,
   "metadata": {},
   "outputs": [
    {
     "name": "stdout",
     "output_type": "stream",
     "text": [
      "10 kadar koltuk satilmistir, kalan koltuk sayisi 40\n"
     ]
    }
   ],
   "source": [
    "tren1.bilet_satis(10)"
   ]
  },
  {
   "cell_type": "code",
   "execution_count": 83,
   "metadata": {},
   "outputs": [
    {
     "name": "stdout",
     "output_type": "stream",
     "text": [
      "Yetersiz koltuk sayisi\n"
     ]
    }
   ],
   "source": [
    "tren1.bilet_satis(50)"
   ]
  },
  {
   "cell_type": "code",
   "execution_count": 84,
   "metadata": {
    "scrolled": true
   },
   "outputs": [
    {
     "name": "stdout",
     "output_type": "stream",
     "text": [
      "30 adet koltuk iptal edilmistir. Guncel koltuk sayisi 70\n"
     ]
    }
   ],
   "source": [
    "tren1.bilet_iptal(30)"
   ]
  },
  {
   "cell_type": "code",
   "execution_count": 85,
   "metadata": {},
   "outputs": [
    {
     "name": "stdout",
     "output_type": "stream",
     "text": [
      "Iptal edilecek kadar yolcu kaydi yapilmamistir.\n"
     ]
    }
   ],
   "source": [
    "tren1.bilet_iptal(40)"
   ]
  }
 ],
 "metadata": {
  "kernelspec": {
   "display_name": "Python 3",
   "language": "python",
   "name": "python3"
  },
  "language_info": {
   "codemirror_mode": {
    "name": "ipython",
    "version": 3
   },
   "file_extension": ".py",
   "mimetype": "text/x-python",
   "name": "python",
   "nbconvert_exporter": "python",
   "pygments_lexer": "ipython3",
   "version": "3.8.5"
  }
 },
 "nbformat": 4,
 "nbformat_minor": 4
}
