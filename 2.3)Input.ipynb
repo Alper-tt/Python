{
 "cells": [
  {
   "cell_type": "code",
   "execution_count": 135,
   "metadata": {},
   "outputs": [
    {
     "name": "stdout",
     "output_type": "stream",
     "text": [
      "Bir sayi gir:12\n"
     ]
    },
    {
     "data": {
      "text/plain": [
       "'12'"
      ]
     },
     "execution_count": 135,
     "metadata": {},
     "output_type": "execute_result"
    }
   ],
   "source": [
    "input('Bir sayi gir:')"
   ]
  },
  {
   "cell_type": "code",
   "execution_count": 137,
   "metadata": {},
   "outputs": [
    {
     "name": "stdout",
     "output_type": "stream",
     "text": [
      "Bir sayi gir:5\n"
     ]
    },
    {
     "data": {
      "text/plain": [
       "str"
      ]
     },
     "execution_count": 137,
     "metadata": {},
     "output_type": "execute_result"
    }
   ],
   "source": [
    "x = input('Bir sayi gir:')\n",
    "type(x)"
   ]
  },
  {
   "cell_type": "code",
   "execution_count": 103,
   "metadata": {
    "scrolled": true
   },
   "outputs": [
    {
     "name": "stdout",
     "output_type": "stream",
     "text": [
      "Bir sayi gir:4\n"
     ]
    },
    {
     "data": {
      "text/plain": [
       "int"
      ]
     },
     "execution_count": 103,
     "metadata": {},
     "output_type": "execute_result"
    }
   ],
   "source": [
    "x = input('Bir sayi gir:')\n",
    "type(int(x))"
   ]
  },
  {
   "cell_type": "code",
   "execution_count": 7,
   "metadata": {},
   "outputs": [],
   "source": [
    "def tek_cift_sorgu():\n",
    "    sayi = input('Bir sayi girin==>')\n",
    "    sorgu = input('Girdiginiz sayi tek mi, cift mi ?==>')\n",
    "    if sorgu == 'cift':\n",
    "        if int(sayi)%2==0:\n",
    "            print('Tebrikler!Dogru cevap.')\n",
    "        \n",
    "        else:\n",
    "            print('Tekrar deneyiniz!')\n",
    "                \n",
    "    elif sorgu =='tek':\n",
    "        if int(sayi)%2==1:\n",
    "            print('Tebrikler!Dogru cevap.')\n",
    "            \n",
    "        else:\n",
    "                print('Tekrar deneyiniz!')\n",
    "    else:\n",
    "        print('Lutfen tek veya cift yaziniz..!')"
   ]
  },
  {
   "cell_type": "code",
   "execution_count": 8,
   "metadata": {},
   "outputs": [
    {
     "name": "stdout",
     "output_type": "stream",
     "text": [
      "Bir sayi girin==>1\n",
      "Girdiginiz sayi tek mi, cift mi ?==>t\n",
      "Lutfen tek veya cift yaziniz..!\n"
     ]
    }
   ],
   "source": [
    "tek_cift_sorgu()"
   ]
  },
  {
   "cell_type": "code",
   "execution_count": 15,
   "metadata": {
    "scrolled": false
   },
   "outputs": [],
   "source": [
    "def tek_cift_sorgu1():\n",
    "    sayi = input('Bir sayi girin==>')\n",
    "    sorgu = input('Girdiginiz sayi tek mi, cift mi ?==>')\n",
    "    \n",
    "    while not (('tek' in sorgu) or ('cift' in sorgu)):\n",
    "        print('Lutfen tek veya cift yaziniz..!\\n')\n",
    "        sorgu = input('Girdiginiz sayi tek mi, cift mi ?==>')\n",
    "    \n",
    "    else:\n",
    "        if sorgu == 'cift':\n",
    "            if int(sayi)%2==0:\n",
    "                print('Tebrikler!Dogru cevap.')\n",
    "            \n",
    "            else:\n",
    "                print('Tekrar deneyiniz!')\n",
    "                \n",
    "        elif sorgu =='tek':\n",
    "            if int(sayi)%2==1:\n",
    "                print('Tebrikler!Dogru cevap.')\n",
    "            \n",
    "            else:\n",
    "                print('Tekrar deneyiniz!')"
   ]
  },
  {
   "cell_type": "code",
   "execution_count": 19,
   "metadata": {
    "scrolled": false
   },
   "outputs": [
    {
     "name": "stdout",
     "output_type": "stream",
     "text": [
      "Bir sayi girin==>1\n",
      "Girdiginiz sayi tek mi, cift mi ?==>a\n",
      "Lutfen tek veya cift yaziniz..!\n",
      "\n",
      "Girdiginiz sayi tek mi, cift mi ?==>tek\n",
      "Tebrikler!Dogru cevap.\n"
     ]
    }
   ],
   "source": [
    "tek_cift_sorgu1()"
   ]
  },
  {
   "cell_type": "code",
   "execution_count": 81,
   "metadata": {},
   "outputs": [],
   "source": [
    "def tek_cift_sorgu2():\n",
    "    sayi = input('Bir sayi girin==>')\n",
    "    sorgu = input('Girdiginiz sayi tek mi, cift mi ?==>')\n",
    "        \n",
    "    try:    \n",
    "        sayi = int(sayi)\n",
    "        while not (('tek' in sorgu) or ('cift' in sorgu)):\n",
    "            print('Lutfen tek veya cift yaziniz..!\\n')\n",
    "            sorgu = input('Girdiginiz sayi tek mi, cift mi ?==>')\n",
    "\n",
    "        else:\n",
    "            \n",
    "            if sorgu == 'cift':\n",
    "                if int(sayi)%2==0:\n",
    "                    print('Tebrikler!Dogru cevap.')\n",
    "    \n",
    "                else:\n",
    "                    print('Tekrar deneyiniz!')\n",
    "\n",
    "            elif sorgu =='tek':\n",
    "                if int(sayi)%2==1:\n",
    "                    print('Tebrikler!Dogru cevap.')\n",
    "\n",
    "            else:\n",
    "                print('Tekrar deneyiniz!')\n",
    "    except:\n",
    "        print('\\n Lutfen bir tam sayi giriniz..!')\n",
    "        return tek_cift_sorgu2()"
   ]
  },
  {
   "cell_type": "code",
   "execution_count": 90,
   "metadata": {},
   "outputs": [
    {
     "name": "stdout",
     "output_type": "stream",
     "text": [
      "Bir sayi girin==>a\n",
      "Girdiginiz sayi tek mi, cift mi ?==>t\n",
      "\n",
      " Lutfen bir tam sayi giriniz..!\n",
      "Bir sayi girin==>5\n",
      "Girdiginiz sayi tek mi, cift mi ?==>t\n",
      "Lutfen tek veya cift yaziniz..!\n",
      "\n",
      "Girdiginiz sayi tek mi, cift mi ?==>as\n",
      "Lutfen tek veya cift yaziniz..!\n",
      "\n",
      "Girdiginiz sayi tek mi, cift mi ?==>cift\n",
      "Tekrar deneyiniz!\n"
     ]
    }
   ],
   "source": [
    "tek_cift_sorgu2()"
   ]
  },
  {
   "cell_type": "code",
   "execution_count": null,
   "metadata": {},
   "outputs": [],
   "source": []
  }
 ],
 "metadata": {
  "kernelspec": {
   "display_name": "Python 3",
   "language": "python",
   "name": "python3"
  },
  "language_info": {
   "codemirror_mode": {
    "name": "ipython",
    "version": 3
   },
   "file_extension": ".py",
   "mimetype": "text/x-python",
   "name": "python",
   "nbconvert_exporter": "python",
   "pygments_lexer": "ipython3",
   "version": "3.8.5"
  }
 },
 "nbformat": 4,
 "nbformat_minor": 4
}
