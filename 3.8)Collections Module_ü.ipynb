{
 "cells": [
  {
   "cell_type": "code",
   "execution_count": 5,
   "metadata": {},
   "outputs": [],
   "source": [
    "from collections import Counter\n",
    "import random"
   ]
  },
  {
   "cell_type": "code",
   "execution_count": 23,
   "metadata": {},
   "outputs": [
    {
     "name": "stdout",
     "output_type": "stream",
     "text": [
      "[[5, 4, 9, 1], [2, 6, 4, 8], [7, 8, 5, 9], [6, 3, 7, 8]]\n",
      "[5, 4, 9, 1, 2, 6, 4, 8, 7, 8, 5, 9, 6, 3, 7, 8]\n"
     ]
    }
   ],
   "source": [
    "list1 = random.sample(range(10), k=4)\n",
    "list2 = random.sample(range(10), k=4)\n",
    "list3 = random.sample(range(10), k=4)\n",
    "list4 = random.sample(range(10), k=4)\n",
    "\n",
    "liste_listesi = [list1, list2, list3, list4]\n",
    "list_toplam = list1 + list2 + list3 + list4\n",
    "\n",
    "print(liste_listesi)\n",
    "print(list_toplam)"
   ]
  },
  {
   "cell_type": "code",
   "execution_count": 34,
   "metadata": {},
   "outputs": [
    {
     "name": "stdout",
     "output_type": "stream",
     "text": [
      "1. liste \t [5, 4, 9, 1]\n",
      "2. liste \t [2, 6, 4, 8]\n",
      "3. liste \t [7, 8, 5, 9]\n",
      "4. liste \t [6, 3, 7, 8]\n"
     ]
    },
    {
     "data": {
      "text/plain": [
       "Counter({5: 2, 4: 2, 9: 2, 1: 1, 2: 1, 6: 2, 8: 3, 7: 2, 3: 1})"
      ]
     },
     "execution_count": 34,
     "metadata": {},
     "output_type": "execute_result"
    }
   ],
   "source": [
    "for index, liste in enumerate(liste_listesi):\n",
    "    print('{}. liste \\t {}'.format(index+1, liste))\n",
    "Counter(list_toplam)"
   ]
  },
  {
   "cell_type": "code",
   "execution_count": 35,
   "metadata": {},
   "outputs": [
    {
     "data": {
      "text/plain": [
       "Counter({'a': 4, 'k': 1, 's': 4, 'd': 4, 'h': 3, 'l': 1, 'j': 1})"
      ]
     },
     "execution_count": 35,
     "metadata": {},
     "output_type": "execute_result"
    }
   ],
   "source": [
    "Counter('aksdhlashdajshdasd')"
   ]
  },
  {
   "cell_type": "code",
   "execution_count": 38,
   "metadata": {},
   "outputs": [
    {
     "data": {
      "text/plain": [
       "Counter({'\\n': 4,\n",
       "         'Y': 4,\n",
       "         'i': 6,\n",
       "         'n': 12,\n",
       "         'e': 10,\n",
       "         ' ': 12,\n",
       "         'b': 4,\n",
       "         'a': 12,\n",
       "         'g': 2,\n",
       "         'l': 2,\n",
       "         'y': 4,\n",
       "         's': 2,\n",
       "         'v': 2})"
      ]
     },
     "execution_count": 38,
     "metadata": {},
     "output_type": "execute_result"
    }
   ],
   "source": [
    "sarki = '''\n",
    "Yine bana gel\n",
    "Yana yana yine beni sev\n",
    "Yine bana gel\n",
    "Yana yana yine beni sev'''\n",
    "Counter(sarki)"
   ]
  },
  {
   "cell_type": "code",
   "execution_count": 39,
   "metadata": {},
   "outputs": [
    {
     "data": {
      "text/plain": [
       "['Yine',\n",
       " 'bana',\n",
       " 'gel',\n",
       " 'Yana',\n",
       " 'yana',\n",
       " 'yine',\n",
       " 'beni',\n",
       " 'sev',\n",
       " 'Yine',\n",
       " 'bana',\n",
       " 'gel',\n",
       " 'Yana',\n",
       " 'yana',\n",
       " 'yine',\n",
       " 'beni',\n",
       " 'sev']"
      ]
     },
     "execution_count": 39,
     "metadata": {},
     "output_type": "execute_result"
    }
   ],
   "source": [
    "sarki.split()"
   ]
  },
  {
   "cell_type": "code",
   "execution_count": 45,
   "metadata": {},
   "outputs": [
    {
     "data": {
      "text/plain": [
       "Counter({'yine': 4, 'bana': 2, 'gel': 2, 'yana': 4, 'beni': 2, 'sev': 2})"
      ]
     },
     "execution_count": 45,
     "metadata": {},
     "output_type": "execute_result"
    }
   ],
   "source": [
    "Counter(sarki.lower().split())"
   ]
  },
  {
   "cell_type": "code",
   "execution_count": 58,
   "metadata": {},
   "outputs": [
    {
     "data": {
      "text/plain": [
       "[('yine', 4), ('yana', 4), ('bana', 2), ('gel', 2), ('beni', 2), ('sev', 2)]"
      ]
     },
     "execution_count": 58,
     "metadata": {},
     "output_type": "execute_result"
    }
   ],
   "source": [
    "Counter(sarki.lower().split()).most_common()"
   ]
  },
  {
   "cell_type": "code",
   "execution_count": null,
   "metadata": {},
   "outputs": [],
   "source": []
  }
 ],
 "metadata": {
  "kernelspec": {
   "display_name": "Python 3",
   "language": "python",
   "name": "python3"
  },
  "language_info": {
   "codemirror_mode": {
    "name": "ipython",
    "version": 3
   },
   "file_extension": ".py",
   "mimetype": "text/x-python",
   "name": "python",
   "nbconvert_exporter": "python",
   "pygments_lexer": "ipython3",
   "version": "3.8.5"
  }
 },
 "nbformat": 4,
 "nbformat_minor": 4
}
