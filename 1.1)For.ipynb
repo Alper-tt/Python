{
 "cells": [
  {
   "cell_type": "markdown",
   "metadata": {},
   "source": [
    "# FOR"
   ]
  },
  {
   "cell_type": "raw",
   "metadata": {},
   "source": [
    "for <eleman> in <iterable>:\n",
    "    <buraya yazilani yap>"
   ]
  },
  {
   "cell_type": "code",
   "execution_count": 2,
   "metadata": {
    "scrolled": true
   },
   "outputs": [
    {
     "name": "stdout",
     "output_type": "stream",
     "text": [
      "Ismail Aydemir\n",
      "Uygar Aydin\n",
      "Naz Yagcioglu\n",
      "Ferhat Ibrik\n",
      "Ulas Acil\n",
      "Bilal Kurucay\n"
     ]
    }
   ],
   "source": [
    "yorum_birakanlar = [\"Ismail Aydemir\", \"Uygar Aydin\", \"Naz Yagcioglu\",\"Ferhat Ibrik\",\"Ulas Acil\", \"Bilal Kurucay\"]\n",
    "\n",
    "for isim in yorum_birakanlar:\n",
    "    print(isim)"
   ]
  },
  {
   "cell_type": "code",
   "execution_count": 1,
   "metadata": {
    "scrolled": true
   },
   "outputs": [
    {
     "name": "stdout",
     "output_type": "stream",
     "text": [
      "CSGO\n",
      "LoL\n",
      "BF\n",
      "Zula\n"
     ]
    }
   ],
   "source": [
    "oyun_listesi = ['CSGO', 'LoL', 'BF', 'Zula']\n",
    "for oyun in oyun_listesi:\n",
    "    print(oyun)"
   ]
  },
  {
   "cell_type": "code",
   "execution_count": 10,
   "metadata": {
    "scrolled": true
   },
   "outputs": [
    {
     "name": "stdout",
     "output_type": "stream",
     "text": [
      "1 Ismail Aydemir\n",
      "2 Uygar Aydin\n",
      "3 Naz Yagcioglu\n",
      "4 Ferhat Ibrik\n",
      "5 Ulas Acil\n",
      "6 Bilal Kurucay\n"
     ]
    }
   ],
   "source": [
    "kullanici_sayi = 0\n",
    "for isim in yorum_birakanlar:\n",
    "    kullanici_sayi+=1\n",
    "    print(kullanici_sayi, isim)"
   ]
  },
  {
   "cell_type": "code",
   "execution_count": 10,
   "metadata": {
    "scrolled": true
   },
   "outputs": [
    {
     "name": "stdout",
     "output_type": "stream",
     "text": [
      "1 CSGO\n",
      "2 LoL\n",
      "3 BF\n",
      "4 Zula\n"
     ]
    }
   ],
   "source": [
    "sira = 0\n",
    "for oyun in oyun_listesi:\n",
    "    sira=sira+1\n",
    "    print(sira , oyun)"
   ]
  },
  {
   "cell_type": "code",
   "execution_count": 3,
   "metadata": {
    "scrolled": true
   },
   "outputs": [
    {
     "name": "stdout",
     "output_type": "stream",
     "text": [
      "1. Kullanicinin Adi Ismail ve Soyadi Aydemir\n",
      "2. Kullanicinin Adi Uygar ve Soyadi Aydin\n",
      "3. Kullanicinin Adi Naz ve Soyadi Yagcioglu\n",
      "4. Kullanicinin Adi Ferhat ve Soyadi Ibrik\n",
      "5. Kullanicinin Adi Ulas ve Soyadi Acil\n",
      "6. Kullanicinin Adi Bilal ve Soyadi Kurucay\n"
     ]
    }
   ],
   "source": [
    "kullanici_sayi = 0\n",
    "for isim in yorum_birakanlar:\n",
    "    kullanici_sayi=kullanici_sayi+1\n",
    "    ad, soyad = isim.split()[0], isim.split()[1]\n",
    "    print('{}. Kullanicinin Adi {} ve Soyadi {}'.format(kullanici_sayi,ad,soyad))"
   ]
  },
  {
   "cell_type": "code",
   "execution_count": 55,
   "metadata": {
    "scrolled": true
   },
   "outputs": [
    {
     "name": "stdout",
     "output_type": "stream",
     "text": [
      "1. Baskanin adi Alper, soyadi TOPRAKTEPE.\n",
      "1. Kisinin adi Metin, soyadi YILMAZ.\n",
      "2. Kisinin adi Alican, soyadi KAYA.\n",
      "3. Kisinin adi Ahmet, soyadi ALBUZ.\n"
     ]
    }
   ],
   "source": [
    "sinif = ['Metin Yilmaz', 'Alican Kaya', 'Ahmet Albuz']\n",
    "baskanlar = ['Alper Topraktepe']\n",
    "\n",
    "baskan = 'Alper Topraktepe'\n",
    "\n",
    "sinif_sayisi = 0\n",
    "baskan_sayisi = 0\n",
    "\n",
    "for x in baskanlar:\n",
    "    ad = x.split()[0]\n",
    "    soyad = x.split()[1]\n",
    "if(x == baskan):\n",
    "    baskan_sayisi+=1\n",
    "    print('{}. Baskanin adi {}, soyadi {}.'.format(baskan_sayisi, ad, soyad.upper()))\n",
    "else:\n",
    "    print('BASKANIN ADI DOGRU GIRILMEDI!!!')\n",
    "\n",
    "for kisi in sinif:\n",
    "    sinif_sayisi+=1\n",
    "    ad = kisi.split()[0]\n",
    "    soyad = kisi.split()[1]\n",
    "    print('{}. Kisinin adi {}, soyadi {}.'.format(sinif_sayisi, ad, soyad.upper()))"
   ]
  },
  {
   "cell_type": "code",
   "execution_count": 42,
   "metadata": {},
   "outputs": [
    {
     "name": "stdout",
     "output_type": "stream",
     "text": [
      "1\n",
      "3\n",
      "5\n",
      "7\n"
     ]
    }
   ],
   "source": [
    "tup1 = (1,3,5,7)\n",
    "for sayi in tup1:\n",
    "    print(sayi)"
   ]
  },
  {
   "cell_type": "code",
   "execution_count": 61,
   "metadata": {},
   "outputs": [
    {
     "name": "stdout",
     "output_type": "stream",
     "text": [
      "0\n",
      "6\n",
      "20\n"
     ]
    }
   ],
   "source": [
    "liste = [[0,1,],[2,3],[4,5]]\n",
    "\n",
    "for a,b in liste:\n",
    "    print(a*b)"
   ]
  },
  {
   "cell_type": "code",
   "execution_count": 63,
   "metadata": {
    "scrolled": true
   },
   "outputs": [
    {
     "name": "stdout",
     "output_type": "stream",
     "text": [
      "5\n",
      "4\n",
      "3\n"
     ]
    }
   ],
   "source": [
    "liste = [[10,2],[8,2],[6,2]]\n",
    "for a,b in liste:\n",
    "    print(int(a/b))"
   ]
  },
  {
   "cell_type": "code",
   "execution_count": 74,
   "metadata": {
    "scrolled": true
   },
   "outputs": [
    {
     "name": "stdout",
     "output_type": "stream",
     "text": [
      "Key: ad \tValue: Naz\n",
      "Key: soyad \tValue: Yagcioglu\n"
     ]
    }
   ],
   "source": [
    "kullanici1 = {'ad': 'Naz', 'soyad':'Yagcioglu'}\n",
    "for key, value in kullanici1.items():\n",
    "    print(\"Key: {} \\tValue: {}\".format(key, value))"
   ]
  },
  {
   "cell_type": "code",
   "execution_count": 77,
   "metadata": {
    "scrolled": true
   },
   "outputs": [
    {
     "name": "stdout",
     "output_type": "stream",
     "text": [
      "1.Key: name \n",
      " 1.Value: Alper\n",
      "2.Key: nickname \n",
      " 2.Value: DreadBoy\n",
      "3.Key: surname \n",
      " 3.Value: Topraktepe\n"
     ]
    }
   ],
   "source": [
    "oyuncu = {\n",
    "    'name': 'Alper',\n",
    "    'nickname' : 'DreadBoy',\n",
    "    'surname' : 'Topraktepe'\n",
    "}\n",
    "sayi = 0\n",
    "for key, value in oyuncu.items():\n",
    "    sayi += 1\n",
    "    print('{0}.Key: {1} \\n {0}.Value: {2}'.format(sayi,key,value))"
   ]
  }
 ],
 "metadata": {
  "kernelspec": {
   "display_name": "Python 3",
   "language": "python",
   "name": "python3"
  },
  "language_info": {
   "codemirror_mode": {
    "name": "ipython",
    "version": 3
   },
   "file_extension": ".py",
   "mimetype": "text/x-python",
   "name": "python",
   "nbconvert_exporter": "python",
   "pygments_lexer": "ipython3",
   "version": "3.8.5"
  }
 },
 "nbformat": 4,
 "nbformat_minor": 4
}
