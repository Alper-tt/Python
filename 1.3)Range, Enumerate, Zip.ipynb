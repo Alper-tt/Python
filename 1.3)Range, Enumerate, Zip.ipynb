{
 "cells": [
  {
   "cell_type": "markdown",
   "metadata": {},
   "source": [
    "# Range"
   ]
  },
  {
   "cell_type": "code",
   "execution_count": 3,
   "metadata": {
    "scrolled": false
   },
   "outputs": [
    {
     "data": {
      "text/plain": [
       "range(0, 10)"
      ]
     },
     "execution_count": 3,
     "metadata": {},
     "output_type": "execute_result"
    }
   ],
   "source": [
    "range(10)"
   ]
  },
  {
   "cell_type": "code",
   "execution_count": 17,
   "metadata": {
    "scrolled": true
   },
   "outputs": [
    {
     "data": {
      "text/plain": [
       "[0, 1, 2, 3, 4, 5, 6, 7, 8, 9]"
      ]
     },
     "execution_count": 17,
     "metadata": {},
     "output_type": "execute_result"
    }
   ],
   "source": [
    "list(range(10))"
   ]
  },
  {
   "cell_type": "code",
   "execution_count": 18,
   "metadata": {
    "scrolled": true
   },
   "outputs": [
    {
     "data": {
      "text/plain": [
       "[0, 1, 2, 3, 4, 5, 6, 7, 8, 9]"
      ]
     },
     "execution_count": 18,
     "metadata": {},
     "output_type": "execute_result"
    }
   ],
   "source": [
    "[*range(10)]"
   ]
  },
  {
   "cell_type": "code",
   "execution_count": 21,
   "metadata": {},
   "outputs": [
    {
     "data": {
      "text/plain": [
       "[2, 4, 6, 8, 10]"
      ]
     },
     "execution_count": 21,
     "metadata": {},
     "output_type": "execute_result"
    }
   ],
   "source": [
    "list(range(2,12,2))"
   ]
  },
  {
   "cell_type": "code",
   "execution_count": 32,
   "metadata": {
    "scrolled": true
   },
   "outputs": [
    {
     "name": "stdout",
     "output_type": "stream",
     "text": [
      "0\n",
      "1\n",
      "2\n",
      "3\n",
      "4\n"
     ]
    }
   ],
   "source": [
    "for x in range(10):\n",
    "    if x < 5:\n",
    "        print(x)"
   ]
  },
  {
   "cell_type": "markdown",
   "metadata": {},
   "source": [
    "# Enumerate"
   ]
  },
  {
   "cell_type": "code",
   "execution_count": 5,
   "metadata": {},
   "outputs": [
    {
     "name": "stdout",
     "output_type": "stream",
     "text": [
      "(0, 'alper')\n",
      "(1, 'alican')\n",
      "(2, 'engin')\n"
     ]
    }
   ],
   "source": [
    "kisiler = ['alper', 'alican', 'engin']\n",
    "for x in enumerate(kisiler):\n",
    "    print(x)\n",
    "    "
   ]
  },
  {
   "cell_type": "code",
   "execution_count": 16,
   "metadata": {
    "scrolled": true
   },
   "outputs": [
    {
     "name": "stdout",
     "output_type": "stream",
     "text": [
      "0 alper\n",
      "1 alican\n",
      "2 engin\n"
     ]
    }
   ],
   "source": [
    "for x, y in enumerate(kisiler):\n",
    "    print(x,y)"
   ]
  },
  {
   "cell_type": "code",
   "execution_count": 7,
   "metadata": {
    "scrolled": false
   },
   "outputs": [
    {
     "name": "stdout",
     "output_type": "stream",
     "text": [
      "alper\n",
      "alican\n",
      "engin\n"
     ]
    }
   ],
   "source": [
    "for x, y in enumerate(kisiler):\n",
    "    print(y)"
   ]
  },
  {
   "cell_type": "code",
   "execution_count": 8,
   "metadata": {},
   "outputs": [
    {
     "name": "stdout",
     "output_type": "stream",
     "text": [
      "1.kisi alper\n",
      "\n",
      "2.kisi alican\n",
      "\n",
      "3.kisi engin\n",
      "\n"
     ]
    }
   ],
   "source": [
    "for x, y in enumerate(kisiler):\n",
    "    print('{}.kisi {}\\n'.format(x+1,y))"
   ]
  },
  {
   "cell_type": "markdown",
   "metadata": {},
   "source": [
    "# Zip"
   ]
  },
  {
   "cell_type": "code",
   "execution_count": 23,
   "metadata": {
    "scrolled": true
   },
   "outputs": [
    {
     "name": "stdout",
     "output_type": "stream",
     "text": [
      "BJK SAMPIYON!!!\n",
      "GS 2\n",
      "FB 3\n",
      "TS 4\n"
     ]
    }
   ],
   "source": [
    "takimlar = ['BJK', 'GS', 'FB', 'TS']\n",
    "sira = range(1,5)\n",
    "for x,y in zip(takimlar,sira):\n",
    "    if x == 'BJK':\n",
    "        print('{} SAMPIYON!!!'.format(x))\n",
    "    else:\n",
    "        print(x,y)"
   ]
  },
  {
   "cell_type": "code",
   "execution_count": 24,
   "metadata": {},
   "outputs": [
    {
     "name": "stdout",
     "output_type": "stream",
     "text": [
      "1. !!! BASKANIN ADI Alper, SOYADI Topraktepe !!!\n",
      "2. Metin Yilmaz kisisi kazanamadi\n",
      "3. Alican Kaya kisisi kazanamadi\n",
      "4. Ahmet Albuz kisisi kazanamadi\n"
     ]
    }
   ],
   "source": [
    "kisiler = ['Alper Topraktepe', 'Metin Yilmaz', 'Alican Kaya', 'Ahmet Albuz',]\n",
    "sayi = range(1,5)\n",
    "\n",
    "for x, y in zip(sayi, kisiler):\n",
    "    isim = y.split()[0]\n",
    "    soyisim = y.split()[1]\n",
    "    if y == 'Alper Topraktepe':\n",
    "        print('{}. !!! BASKANIN ADI {}, SOYADI {} !!!'.format(x, isim, soyisim))\n",
    "    else:\n",
    "        print('{}. {} kisisi kazanamadi'.format(x, y))"
   ]
  }
 ],
 "metadata": {
  "kernelspec": {
   "display_name": "Python 3",
   "language": "python",
   "name": "python3"
  },
  "language_info": {
   "codemirror_mode": {
    "name": "ipython",
    "version": 3
   },
   "file_extension": ".py",
   "mimetype": "text/x-python",
   "name": "python",
   "nbconvert_exporter": "python",
   "pygments_lexer": "ipython3",
   "version": "3.8.5"
  }
 },
 "nbformat": 4,
 "nbformat_minor": 4
}
