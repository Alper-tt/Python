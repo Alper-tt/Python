{
 "cells": [
  {
   "cell_type": "code",
   "execution_count": 6,
   "metadata": {},
   "outputs": [],
   "source": [
    "def tam_sayiya_cevir():\n",
    "    x = input('Bir ondalik sayi giriniz:')\n",
    "    \n",
    "    print('Islem sonucu: {}'.format((round(float(x)))))"
   ]
  },
  {
   "cell_type": "code",
   "execution_count": 8,
   "metadata": {
    "scrolled": false
   },
   "outputs": [
    {
     "name": "stdout",
     "output_type": "stream",
     "text": [
      "Bir ondalik sayi giriniz:9.1\n",
      "Islem sonucu: 9\n"
     ]
    }
   ],
   "source": [
    "tam_sayiya_cevir()"
   ]
  },
  {
   "cell_type": "code",
   "execution_count": 19,
   "metadata": {},
   "outputs": [],
   "source": [
    "def tam_sayiya_cevir():\n",
    "    x = input('Bir ondalik sayi gir:')\n",
    "    \n",
    "    try:\n",
    "        x = float(x)\n",
    "        print('yuvarlama islemi sonucu {}'.format(round(x)))\n",
    "    except:\n",
    "        print('{} girdisi ondalik tipe cevrilemiyor'.format(x))"
   ]
  },
  {
   "cell_type": "code",
   "execution_count": 20,
   "metadata": {
    "scrolled": false
   },
   "outputs": [
    {
     "name": "stdout",
     "output_type": "stream",
     "text": [
      "Bir ondalik sayi gir:5.8\n",
      "yuvarlama islemi sonucu 6\n"
     ]
    }
   ],
   "source": [
    "tam_sayiya_cevir()"
   ]
  },
  {
   "cell_type": "code",
   "execution_count": 21,
   "metadata": {},
   "outputs": [],
   "source": [
    "def tam_sayiya_cevir():\n",
    "    x = input('Bir ondalik sayi gir:')\n",
    "    \n",
    "    try:\n",
    "        x = float(x)\n",
    "    except:\n",
    "        print('{} girdisi ondalik tipe cevrilemiyor'.format(x))\n",
    "    else:\n",
    "        print('yuvarlama islemi sonucu {}'.format(round(x)))"
   ]
  },
  {
   "cell_type": "code",
   "execution_count": 22,
   "metadata": {},
   "outputs": [
    {
     "name": "stdout",
     "output_type": "stream",
     "text": [
      "Bir ondalik sayi gir:5.2\n",
      "yuvarlama islemi sonucu 5\n"
     ]
    }
   ],
   "source": [
    "tam_sayiya_cevir()"
   ]
  },
  {
   "cell_type": "code",
   "execution_count": 25,
   "metadata": {},
   "outputs": [],
   "source": [
    "def tam_sayiya_cevir():\n",
    "    x = input('Bir ondalik sayi gir:')\n",
    "    \n",
    "    status = ''\n",
    "    \n",
    "    try:\n",
    "        x = float(x)\n",
    "        print('yuvarlama islemi sonucu {}'.format(round(x)))\n",
    "        status = 'basarili'\n",
    "    except:\n",
    "        print('{} girdisi ondalik tipe cevrilemiyor'.format(x))\n",
    "        status = 'basarisiz'\n",
    "    finally:\n",
    "        print('Tam sayiya cevirme islemi {}'.format(status))"
   ]
  },
  {
   "cell_type": "code",
   "execution_count": 29,
   "metadata": {},
   "outputs": [
    {
     "name": "stdout",
     "output_type": "stream",
     "text": [
      "Bir ondalik sayi gir:2.5\n",
      "yuvarlama islemi sonucu 2\n",
      "Tam sayiya cevirme islemi basarili\n"
     ]
    }
   ],
   "source": [
    "tam_sayiya_cevir()"
   ]
  },
  {
   "cell_type": "code",
   "execution_count": 48,
   "metadata": {},
   "outputs": [],
   "source": [
    "def tam_sayiya_cevir_dongu():\n",
    "    while True:\n",
    "        x = input('Bir ondalik sayi gir:')\n",
    "        \n",
    "        try:\n",
    "            x = float(x)\n",
    "            print('yuvarlama islemi sonucu {}'.format(round(x)))\n",
    "            break\n",
    "        except:\n",
    "            print('{} girdisi ondalik tipe cevrilemiyor'.format(x))\n",
    "            pass"
   ]
  },
  {
   "cell_type": "code",
   "execution_count": 49,
   "metadata": {
    "scrolled": true
   },
   "outputs": [
    {
     "name": "stdout",
     "output_type": "stream",
     "text": [
      "Bir ondalik sayi gir:s\n",
      "s girdisi ondalik tipe cevrilemiyor\n",
      "Bir ondalik sayi gir:s\n",
      "s girdisi ondalik tipe cevrilemiyor\n",
      "Bir ondalik sayi gir:s\n",
      "s girdisi ondalik tipe cevrilemiyor\n",
      "Bir ondalik sayi gir:5.7\n",
      "yuvarlama islemi sonucu 6\n"
     ]
    }
   ],
   "source": [
    "tam_sayiya_cevir_dongu()"
   ]
  },
  {
   "cell_type": "markdown",
   "metadata": {},
   "source": [
    "# Exception Tipleri\n",
    "https://docs.python.org/3/tutorial/errors.html"
   ]
  },
  {
   "cell_type": "code",
   "execution_count": 31,
   "metadata": {},
   "outputs": [
    {
     "name": "stdout",
     "output_type": "stream",
     "text": [
      "girilen verilerle islem yapilamiyor\n"
     ]
    }
   ],
   "source": [
    "try:\n",
    "    5 + 'a'\n",
    "except TypeError:\n",
    "    print('girilen verilerle islem yapilamiyor')"
   ]
  },
  {
   "cell_type": "code",
   "execution_count": 36,
   "metadata": {},
   "outputs": [
    {
     "name": "stdout",
     "output_type": "stream",
     "text": [
      "Indexlemeye calistiginiz eleman listenin disinda\n"
     ]
    }
   ],
   "source": [
    "liste = []\n",
    "try:\n",
    "    liste[-1]\n",
    "except IndexError:\n",
    "    print('Indexlemeye calistiginiz eleman listenin disinda')\n",
    "except:\n",
    "    print('Kod duzgun calismiyor')"
   ]
  },
  {
   "cell_type": "code",
   "execution_count": null,
   "metadata": {},
   "outputs": [],
   "source": []
  }
 ],
 "metadata": {
  "kernelspec": {
   "display_name": "Python 3",
   "language": "python",
   "name": "python3"
  },
  "language_info": {
   "codemirror_mode": {
    "name": "ipython",
    "version": 3
   },
   "file_extension": ".py",
   "mimetype": "text/x-python",
   "name": "python",
   "nbconvert_exporter": "python",
   "pygments_lexer": "ipython3",
   "version": "3.8.5"
  }
 },
 "nbformat": 4,
 "nbformat_minor": 4
}
