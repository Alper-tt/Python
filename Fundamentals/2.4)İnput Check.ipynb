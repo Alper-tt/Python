{
 "cells": [
  {
   "cell_type": "code",
   "execution_count": 13,
   "metadata": {},
   "outputs": [],
   "source": [
    "def sayı_kontrol():\n",
    "    x = input('Bir sayi gir:')\n",
    "    \n",
    "    if x.isdigit():\n",
    "        return ('Tebrikler bu bir sayi!')\n",
    "    else:\n",
    "        return ('Bir sayi girmediniz!')"
   ]
  },
  {
   "cell_type": "code",
   "execution_count": 14,
   "metadata": {
    "scrolled": true
   },
   "outputs": [
    {
     "name": "stdout",
     "output_type": "stream",
     "text": [
      "Bir sayi gir:a\n"
     ]
    },
    {
     "data": {
      "text/plain": [
       "'Bir sayi girmediniz!'"
      ]
     },
     "execution_count": 14,
     "metadata": {},
     "output_type": "execute_result"
    }
   ],
   "source": [
    "sayı_kontrol()"
   ]
  },
  {
   "cell_type": "code",
   "execution_count": 27,
   "metadata": {},
   "outputs": [],
   "source": [
    "def sayi_dongu_kontrol():\n",
    "    x = input('Bir sayi giriniz:')\n",
    "    \n",
    "    while not x.isdigit():\n",
    "        print('Bu bir sayi degil! Tekrar deneyiniz! \\n')\n",
    "        x = input('Bir sayi giriniz:')\n",
    "        \n",
    "    else:\n",
    "        print('Tebrikler! Bu bir sayi')"
   ]
  },
  {
   "cell_type": "code",
   "execution_count": 28,
   "metadata": {},
   "outputs": [
    {
     "name": "stdout",
     "output_type": "stream",
     "text": [
      "Bir sayi giriniz:alper\n",
      "Bu bir sayi degil! Tekrar deneyiniz! \n",
      "\n",
      "Bir sayi giriniz:1\n",
      "Tebrikler! Bu bir sayi\n"
     ]
    }
   ],
   "source": [
    "sayi_dongu_kontrol()"
   ]
  },
  {
   "cell_type": "code",
   "execution_count": 58,
   "metadata": {},
   "outputs": [],
   "source": [
    "def eposta_kontrol():\n",
    "    x = input('Lutfen gecerli bir e-posta adresi giriniz!:')\n",
    "    s = 2\n",
    "    \n",
    "    while not (('.' in x) and ('@' in x)):\n",
    "        if s == 0:\n",
    "            print('Cok fazla yanlis giris denemesinde bulundunuz! HESAP BLOKLANDI!!!')\n",
    "            break\n",
    "        print('Bu gecerli bir e posta adresi degil..! Kalan hakkiniz {}'.format(s))\n",
    "        x = input('Lutfen gecerli bir e-posta adresi giriniz!:')\n",
    "        s -= 1\n",
    "    \n",
    "    else:\n",
    "        print('Tebrikler! Giris Yapildi..!')"
   ]
  },
  {
   "cell_type": "code",
   "execution_count": 60,
   "metadata": {
    "scrolled": true
   },
   "outputs": [
    {
     "name": "stdout",
     "output_type": "stream",
     "text": [
      "Lutfen gecerli bir e-posta adresi giriniz!:alper\n",
      "Bu gecerli bir e posta adresi degil..! Kalan hakkiniz 2\n",
      "Lutfen gecerli bir e-posta adresi giriniz!:a\n",
      "Bu gecerli bir e posta adresi degil..! Kalan hakkiniz 1\n",
      "Lutfen gecerli bir e-posta adresi giriniz!:a\n",
      "Cok fazla yanlis giris denemesinde bulundunuz! HESAP BLOKLANDI!!!\n"
     ]
    }
   ],
   "source": [
    "eposta_kontrol()"
   ]
  },
  {
   "cell_type": "code",
   "execution_count": 61,
   "metadata": {},
   "outputs": [
    {
     "name": "stdout",
     "output_type": "stream",
     "text": [
      "Lutfen gecerli bir e-posta adresi giriniz!:alper\n",
      "Bu gecerli bir e posta adresi degil..! Kalan hakkiniz 2\n",
      "Lutfen gecerli bir e-posta adresi giriniz!:alper\n",
      "Bu gecerli bir e posta adresi degil..! Kalan hakkiniz 1\n",
      "Lutfen gecerli bir e-posta adresi giriniz!:alpertopraktepe46@gmail.com\n",
      "Tebrikler! Giris Yapildi..!\n"
     ]
    }
   ],
   "source": [
    "eposta_kontrol()"
   ]
  }
 ],
 "metadata": {
  "kernelspec": {
   "display_name": "Python 3",
   "language": "python",
   "name": "python3"
  },
  "language_info": {
   "codemirror_mode": {
    "name": "ipython",
    "version": 3
   },
   "file_extension": ".py",
   "mimetype": "text/x-python",
   "name": "python",
   "nbconvert_exporter": "python",
   "pygments_lexer": "ipython3",
   "version": "3.8.5"
  }
 },
 "nbformat": 4,
 "nbformat_minor": 4
}
