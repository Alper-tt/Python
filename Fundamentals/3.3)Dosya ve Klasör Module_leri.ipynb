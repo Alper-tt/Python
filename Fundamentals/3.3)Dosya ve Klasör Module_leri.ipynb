{
 "cells": [
  {
   "cell_type": "markdown",
   "metadata": {},
   "source": [
    "# Magic Commands"
   ]
  },
  {
   "cell_type": "code",
   "execution_count": 1,
   "metadata": {
    "scrolled": true
   },
   "outputs": [
    {
     "name": "stdout",
     "output_type": "stream",
     "text": [
      " Volume in drive C has no label.\n",
      " Volume Serial Number is 0A3F-271F\n",
      "\n",
      " Directory of C:\\Users\\KODLAMA\n",
      "\n",
      "30.05.2021  12:05    <DIR>          .\n",
      "30.05.2021  12:05    <DIR>          ..\n",
      "30.05.2021  12:07    <DIR>          .conda\n",
      "30.05.2021  11:23                43 .condarc\n",
      "28.10.2020  15:52    <DIR>          .idlerc\n",
      "30.05.2021  11:20    <DIR>          .ipynb_checkpoints\n",
      "28.10.2020  15:03    <DIR>          .ipython\n",
      "25.05.2021  11:44    <DIR>          .jupyter\n",
      "27.05.2021  11:55    <DIR>          .matplotlib\n",
      "27.05.2021  11:56    <DIR>          .spyder-py3\n",
      "06.12.2020  07:33    <DIR>          .swt\n",
      "04.11.2020  10:27    <DIR>          .vscode\n",
      "19.05.2021  16:36             5.974 0.1)First.ipynb\n",
      "14.05.2021  11:38             1.379 0.2)Integer Float.ipynb\n",
      "15.05.2021  11:26             6.634 0.3)String ve Char.ipynb\n",
      "15.05.2021  11:30             2.221 0.4)Boolean.ipynb\n",
      "15.05.2021  11:42             5.161 0.5)List and set.ipynb\n",
      "15.05.2021  11:54             4.288 0.6)Tuple.ipynb\n",
      "15.05.2021  12:07             5.861 0.7)Dictinonary.ipynb\n",
      "16.05.2021  11:12             4.690 1.0)İF.ipynb\n",
      "17.05.2021  12:58             6.786 1.1)For.ipynb\n",
      "17.05.2021  12:27             2.684 1.2)While.ipynb\n",
      "17.05.2021  12:59             5.332 1.3)Range, Enumerate, Zip.ipynb\n",
      "17.05.2021  13:12             2.077 1.4)Break,Pass,Continue.ipynb\n",
      "19.05.2021  14:18             4.623 2.0)Fonksiyonlar.ipynb\n",
      "19.05.2021  14:44             6.509 2.1)Fonksiyonlar 2.ipynb\n",
      "19.05.2021  15:16             3.598 2.2)map, filter ve lambda İfadeleri.ipynb\n",
      "20.05.2021  13:33             6.448 2.3)Input.ipynb\n",
      "20.05.2021  12:37             4.053 2.4)İnput Check.ipynb\n",
      "20.05.2021  13:55             5.741 2.5)Try,Except ve Finally komutlari.ipynb\n",
      "21.05.2021  23:11             6.958 3.0)Class ve OOP.ipynb\n",
      "22.05.2021  12:48             7.188 3.1)Class Methods.ipynb\n",
      "23.05.2021  11:08             8.484 3.2)Class'larda Dunder Method'lar ve Kalıtım.ipynb\n",
      "23.05.2021  12:02            20.727 3.3)Dosya ve Klasör Module'leri.ipynb\n",
      "24.05.2021  12:16             7.800 3.4)Regex Module'ü.ipynb\n",
      "25.05.2021  12:26             6.169 3.5)Regex Module'ü 2.ipynb\n",
      "26.05.2021  12:18             3.554 3.6)Regex Module'ü 3.ipynb\n",
      "27.05.2021  11:55            49.069 3.7)Random ve Math Module'leri.ipynb\n",
      "28.05.2021  13:11             4.764 3.8)Collections Module'ü.ipynb\n",
      "29.05.2021  13:23             8.839 3.9) Datetime ve Time Module'leri.ipynb\n",
      "22.01.2021  03:02    <DIR>          3D Objects\n",
      "30.05.2021  12:05           225.828 4.0)  Decorator'lar.ipynb\n",
      "18.02.2021  09:01         2.860.236 AMD_RyzenMaster.log\n",
      "25.04.2021  18:52             6.285 AMDRM_Install.log\n",
      "25.05.2021  11:43    <DIR>          anaconda3\n",
      "22.01.2021  03:02    <DIR>          Contacts\n",
      "27.05.2021  17:40    <DIR>          Desktop\n",
      "17.05.2021  17:15    <DIR>          Documents\n",
      "29.05.2021  12:36    <DIR>          Downloads\n",
      "22.01.2021  03:02    <DIR>          Favorites\n",
      "03.03.2021  21:28    <DIR>          GAMEPOWER Audio 7.1\n",
      "22.01.2021  03:02    <DIR>          Links\n",
      "22.01.2021  03:02    <DIR>          Music\n",
      "11.05.2021  11:00    <DIR>          OneDrive\n",
      "14.05.2021  11:24    <DIR>          Pictures\n",
      "22.01.2021  03:02    <DIR>          Saved Games\n",
      "22.01.2021  03:03    <DIR>          Searches\n",
      "30.10.2020  09:18           180.189 Veri Tipleri.png\n",
      "14.05.2021  10:38    <DIR>          Videos\n",
      "              33 File(s)      3.480.192 bytes\n",
      "              26 Dir(s)   7.305.433.088 bytes free\n"
     ]
    }
   ],
   "source": [
    "%ls"
   ]
  },
  {
   "cell_type": "code",
   "execution_count": 2,
   "metadata": {},
   "outputs": [
    {
     "data": {
      "text/plain": [
       "'C:\\\\Users\\\\KODLAMA'"
      ]
     },
     "execution_count": 2,
     "metadata": {},
     "output_type": "execute_result"
    }
   ],
   "source": [
    "%pwd"
   ]
  },
  {
   "cell_type": "markdown",
   "metadata": {},
   "source": [
    "# OS Modulu"
   ]
  },
  {
   "cell_type": "markdown",
   "metadata": {},
   "source": [
    "## Navigasyon ve Icrek Listeleme"
   ]
  },
  {
   "cell_type": "code",
   "execution_count": 3,
   "metadata": {},
   "outputs": [],
   "source": [
    "import os"
   ]
  },
  {
   "cell_type": "code",
   "execution_count": 4,
   "metadata": {},
   "outputs": [
    {
     "data": {
      "text/plain": [
       "'C:\\\\Users\\\\KODLAMA'"
      ]
     },
     "execution_count": 4,
     "metadata": {},
     "output_type": "execute_result"
    }
   ],
   "source": [
    "os.getcwd()"
   ]
  },
  {
   "cell_type": "code",
   "execution_count": 5,
   "metadata": {
    "scrolled": true
   },
   "outputs": [
    {
     "data": {
      "text/plain": [
       "['.conda',\n",
       " '.condarc',\n",
       " '.idlerc',\n",
       " '.ipynb_checkpoints',\n",
       " '.ipython',\n",
       " '.jupyter',\n",
       " '.matplotlib',\n",
       " '.spyder-py3',\n",
       " '.swt',\n",
       " '.vscode',\n",
       " '0.1)First.ipynb',\n",
       " '0.2)Integer Float.ipynb',\n",
       " '0.3)String ve Char.ipynb',\n",
       " '0.4)Boolean.ipynb',\n",
       " '0.5)List and set.ipynb',\n",
       " '0.6)Tuple.ipynb',\n",
       " '0.7)Dictinonary.ipynb',\n",
       " '1.0)İF.ipynb',\n",
       " '1.1)For.ipynb',\n",
       " '1.2)While.ipynb',\n",
       " '1.3)Range, Enumerate, Zip.ipynb',\n",
       " '1.4)Break,Pass,Continue.ipynb',\n",
       " '2.0)Fonksiyonlar.ipynb',\n",
       " '2.1)Fonksiyonlar 2.ipynb',\n",
       " '2.2)map, filter ve lambda İfadeleri.ipynb',\n",
       " '2.3)Input.ipynb',\n",
       " '2.4)İnput Check.ipynb',\n",
       " '2.5)Try,Except ve Finally komutlari.ipynb',\n",
       " '3.0)Class ve OOP.ipynb',\n",
       " '3.1)Class Methods.ipynb',\n",
       " \"3.2)Class'larda Dunder Method'lar ve Kalıtım.ipynb\",\n",
       " \"3.3)Dosya ve Klasör Module'leri.ipynb\",\n",
       " \"3.4)Regex Module'ü.ipynb\",\n",
       " \"3.5)Regex Module'ü 2.ipynb\",\n",
       " \"3.6)Regex Module'ü 3.ipynb\",\n",
       " \"3.7)Random ve Math Module'leri.ipynb\",\n",
       " \"3.8)Collections Module'ü.ipynb\",\n",
       " \"3.9) Datetime ve Time Module'leri.ipynb\",\n",
       " '3D Objects',\n",
       " \"4.0)  Decorator'lar.ipynb\",\n",
       " 'AMDRM_Install.log',\n",
       " 'AMD_RyzenMaster.log',\n",
       " 'anaconda3',\n",
       " 'AppData',\n",
       " 'Application Data',\n",
       " 'Belgelerim',\n",
       " 'Contacts',\n",
       " 'Cookies',\n",
       " 'Desktop',\n",
       " 'Documents',\n",
       " 'Downloads',\n",
       " 'Favorites',\n",
       " 'GAMEPOWER Audio 7.1',\n",
       " 'Links',\n",
       " 'Local Settings',\n",
       " 'MicrosoftEdgeBackups',\n",
       " 'Music',\n",
       " 'NetHood',\n",
       " 'NTUSER.DAT',\n",
       " 'ntuser.dat.LOG1',\n",
       " 'ntuser.dat.LOG2',\n",
       " 'NTUSER.DAT{14b6a5f1-5c43-11eb-b882-18c04d2e6d42}.TxR.0.regtrans-ms',\n",
       " 'NTUSER.DAT{14b6a5f1-5c43-11eb-b882-18c04d2e6d42}.TxR.1.regtrans-ms',\n",
       " 'NTUSER.DAT{14b6a5f1-5c43-11eb-b882-18c04d2e6d42}.TxR.2.regtrans-ms',\n",
       " 'NTUSER.DAT{14b6a5f1-5c43-11eb-b882-18c04d2e6d42}.TxR.blf',\n",
       " 'NTUSER.DAT{14b6a5f2-5c43-11eb-b882-18c04d2e6d42}.TM.blf',\n",
       " 'NTUSER.DAT{14b6a5f2-5c43-11eb-b882-18c04d2e6d42}.TMContainer00000000000000000001.regtrans-ms',\n",
       " 'NTUSER.DAT{14b6a5f2-5c43-11eb-b882-18c04d2e6d42}.TMContainer00000000000000000002.regtrans-ms',\n",
       " 'ntuser.ini',\n",
       " 'OneDrive',\n",
       " 'Pictures',\n",
       " 'PrintHood',\n",
       " 'Recent',\n",
       " 'Saved Games',\n",
       " 'Searches',\n",
       " 'SendTo',\n",
       " 'Start Menu',\n",
       " 'Templates',\n",
       " 'Veri Tipleri.png',\n",
       " 'Videos']"
      ]
     },
     "execution_count": 5,
     "metadata": {},
     "output_type": "execute_result"
    }
   ],
   "source": [
    "os.listdir()"
   ]
  },
  {
   "cell_type": "code",
   "execution_count": 6,
   "metadata": {},
   "outputs": [
    {
     "data": {
      "text/plain": [
       "['desktop.ini']"
      ]
     },
     "execution_count": 6,
     "metadata": {},
     "output_type": "execute_result"
    }
   ],
   "source": [
    "os.listdir('C:\\\\Users\\\\Public\\\\Downloads')"
   ]
  },
  {
   "cell_type": "code",
   "execution_count": 7,
   "metadata": {},
   "outputs": [],
   "source": [
    "os.chdir('C:\\\\Users')"
   ]
  },
  {
   "cell_type": "code",
   "execution_count": 8,
   "metadata": {
    "scrolled": true
   },
   "outputs": [
    {
     "data": {
      "text/plain": [
       "['All Users',\n",
       " 'Default',\n",
       " 'Default User',\n",
       " 'desktop.ini',\n",
       " 'KODLAMA',\n",
       " 'Public',\n",
       " 'USER']"
      ]
     },
     "execution_count": 8,
     "metadata": {},
     "output_type": "execute_result"
    }
   ],
   "source": [
    "os.listdir()"
   ]
  },
  {
   "cell_type": "code",
   "execution_count": 9,
   "metadata": {},
   "outputs": [],
   "source": [
    "os.chdir('C:\\\\Users\\\\KODLAMA')"
   ]
  },
  {
   "cell_type": "code",
   "execution_count": 10,
   "metadata": {
    "scrolled": true
   },
   "outputs": [
    {
     "data": {
      "text/plain": [
       "['.conda',\n",
       " '.condarc',\n",
       " '.idlerc',\n",
       " '.ipynb_checkpoints',\n",
       " '.ipython',\n",
       " '.jupyter',\n",
       " '.matplotlib',\n",
       " '.spyder-py3',\n",
       " '.swt',\n",
       " '.vscode',\n",
       " '0.1)First.ipynb',\n",
       " '0.2)Integer Float.ipynb',\n",
       " '0.3)String ve Char.ipynb',\n",
       " '0.4)Boolean.ipynb',\n",
       " '0.5)List and set.ipynb',\n",
       " '0.6)Tuple.ipynb',\n",
       " '0.7)Dictinonary.ipynb',\n",
       " '1.0)İF.ipynb',\n",
       " '1.1)For.ipynb',\n",
       " '1.2)While.ipynb',\n",
       " '1.3)Range, Enumerate, Zip.ipynb',\n",
       " '1.4)Break,Pass,Continue.ipynb',\n",
       " '2.0)Fonksiyonlar.ipynb',\n",
       " '2.1)Fonksiyonlar 2.ipynb',\n",
       " '2.2)map, filter ve lambda İfadeleri.ipynb',\n",
       " '2.3)Input.ipynb',\n",
       " '2.4)İnput Check.ipynb',\n",
       " '2.5)Try,Except ve Finally komutlari.ipynb',\n",
       " '3.0)Class ve OOP.ipynb',\n",
       " '3.1)Class Methods.ipynb',\n",
       " \"3.2)Class'larda Dunder Method'lar ve Kalıtım.ipynb\",\n",
       " \"3.3)Dosya ve Klasör Module'leri.ipynb\",\n",
       " \"3.4)Regex Module'ü.ipynb\",\n",
       " \"3.5)Regex Module'ü 2.ipynb\",\n",
       " \"3.6)Regex Module'ü 3.ipynb\",\n",
       " \"3.7)Random ve Math Module'leri.ipynb\",\n",
       " \"3.8)Collections Module'ü.ipynb\",\n",
       " \"3.9) Datetime ve Time Module'leri.ipynb\",\n",
       " '3D Objects',\n",
       " \"4.0)  Decorator'lar.ipynb\",\n",
       " 'AMDRM_Install.log',\n",
       " 'AMD_RyzenMaster.log',\n",
       " 'anaconda3',\n",
       " 'AppData',\n",
       " 'Application Data',\n",
       " 'Belgelerim',\n",
       " 'Contacts',\n",
       " 'Cookies',\n",
       " 'Desktop',\n",
       " 'Documents',\n",
       " 'Downloads',\n",
       " 'Favorites',\n",
       " 'GAMEPOWER Audio 7.1',\n",
       " 'Links',\n",
       " 'Local Settings',\n",
       " 'MicrosoftEdgeBackups',\n",
       " 'Music',\n",
       " 'NetHood',\n",
       " 'NTUSER.DAT',\n",
       " 'ntuser.dat.LOG1',\n",
       " 'ntuser.dat.LOG2',\n",
       " 'NTUSER.DAT{14b6a5f1-5c43-11eb-b882-18c04d2e6d42}.TxR.0.regtrans-ms',\n",
       " 'NTUSER.DAT{14b6a5f1-5c43-11eb-b882-18c04d2e6d42}.TxR.1.regtrans-ms',\n",
       " 'NTUSER.DAT{14b6a5f1-5c43-11eb-b882-18c04d2e6d42}.TxR.2.regtrans-ms',\n",
       " 'NTUSER.DAT{14b6a5f1-5c43-11eb-b882-18c04d2e6d42}.TxR.blf',\n",
       " 'NTUSER.DAT{14b6a5f2-5c43-11eb-b882-18c04d2e6d42}.TM.blf',\n",
       " 'NTUSER.DAT{14b6a5f2-5c43-11eb-b882-18c04d2e6d42}.TMContainer00000000000000000001.regtrans-ms',\n",
       " 'NTUSER.DAT{14b6a5f2-5c43-11eb-b882-18c04d2e6d42}.TMContainer00000000000000000002.regtrans-ms',\n",
       " 'ntuser.ini',\n",
       " 'OneDrive',\n",
       " 'Pictures',\n",
       " 'PrintHood',\n",
       " 'Recent',\n",
       " 'Saved Games',\n",
       " 'Searches',\n",
       " 'SendTo',\n",
       " 'Start Menu',\n",
       " 'Templates',\n",
       " 'Veri Tipleri.png',\n",
       " 'Videos']"
      ]
     },
     "execution_count": 10,
     "metadata": {},
     "output_type": "execute_result"
    }
   ],
   "source": [
    "os.listdir()"
   ]
  },
  {
   "cell_type": "code",
   "execution_count": 11,
   "metadata": {
    "scrolled": true
   },
   "outputs": [
    {
     "name": "stdout",
     "output_type": "stream",
     "text": [
      "(0, '.conda')\n",
      "(1, '.condarc')\n",
      "(2, '.idlerc')\n",
      "(3, '.ipynb_checkpoints')\n",
      "(4, '.ipython')\n",
      "(5, '.jupyter')\n",
      "(6, '.matplotlib')\n",
      "(7, '.spyder-py3')\n",
      "(8, '.swt')\n",
      "(9, '.vscode')\n",
      "(10, '0.1)First.ipynb')\n",
      "(11, '0.2)Integer Float.ipynb')\n",
      "(12, '0.3)String ve Char.ipynb')\n",
      "(13, '0.4)Boolean.ipynb')\n",
      "(14, '0.5)List and set.ipynb')\n",
      "(15, '0.6)Tuple.ipynb')\n",
      "(16, '0.7)Dictinonary.ipynb')\n",
      "(17, '1.0)İF.ipynb')\n",
      "(18, '1.1)For.ipynb')\n",
      "(19, '1.2)While.ipynb')\n",
      "(20, '1.3)Range, Enumerate, Zip.ipynb')\n",
      "(21, '1.4)Break,Pass,Continue.ipynb')\n",
      "(22, '2.0)Fonksiyonlar.ipynb')\n",
      "(23, '2.1)Fonksiyonlar 2.ipynb')\n",
      "(24, '2.2)map, filter ve lambda İfadeleri.ipynb')\n",
      "(25, '2.3)Input.ipynb')\n",
      "(26, '2.4)İnput Check.ipynb')\n",
      "(27, '2.5)Try,Except ve Finally komutlari.ipynb')\n",
      "(28, '3.0)Class ve OOP.ipynb')\n",
      "(29, '3.1)Class Methods.ipynb')\n",
      "(30, \"3.2)Class'larda Dunder Method'lar ve Kalıtım.ipynb\")\n",
      "(31, \"3.3)Dosya ve Klasör Module'leri.ipynb\")\n",
      "(32, \"3.4)Regex Module'ü.ipynb\")\n",
      "(33, \"3.5)Regex Module'ü 2.ipynb\")\n",
      "(34, \"3.6)Regex Module'ü 3.ipynb\")\n",
      "(35, \"3.7)Random ve Math Module'leri.ipynb\")\n",
      "(36, \"3.8)Collections Module'ü.ipynb\")\n",
      "(37, \"3.9) Datetime ve Time Module'leri.ipynb\")\n",
      "(38, '3D Objects')\n",
      "(39, \"4.0)  Decorator'lar.ipynb\")\n",
      "(40, 'AMDRM_Install.log')\n",
      "(41, 'AMD_RyzenMaster.log')\n",
      "(42, 'anaconda3')\n",
      "(43, 'AppData')\n",
      "(44, 'Application Data')\n",
      "(45, 'Belgelerim')\n",
      "(46, 'Contacts')\n",
      "(47, 'Cookies')\n",
      "(48, 'Desktop')\n",
      "(49, 'Documents')\n",
      "(50, 'Downloads')\n",
      "(51, 'Favorites')\n",
      "(52, 'GAMEPOWER Audio 7.1')\n",
      "(53, 'Links')\n",
      "(54, 'Local Settings')\n",
      "(55, 'MicrosoftEdgeBackups')\n",
      "(56, 'Music')\n",
      "(57, 'NetHood')\n",
      "(58, 'NTUSER.DAT')\n",
      "(59, 'ntuser.dat.LOG1')\n",
      "(60, 'ntuser.dat.LOG2')\n",
      "(61, 'NTUSER.DAT{14b6a5f1-5c43-11eb-b882-18c04d2e6d42}.TxR.0.regtrans-ms')\n",
      "(62, 'NTUSER.DAT{14b6a5f1-5c43-11eb-b882-18c04d2e6d42}.TxR.1.regtrans-ms')\n",
      "(63, 'NTUSER.DAT{14b6a5f1-5c43-11eb-b882-18c04d2e6d42}.TxR.2.regtrans-ms')\n",
      "(64, 'NTUSER.DAT{14b6a5f1-5c43-11eb-b882-18c04d2e6d42}.TxR.blf')\n",
      "(65, 'NTUSER.DAT{14b6a5f2-5c43-11eb-b882-18c04d2e6d42}.TM.blf')\n",
      "(66, 'NTUSER.DAT{14b6a5f2-5c43-11eb-b882-18c04d2e6d42}.TMContainer00000000000000000001.regtrans-ms')\n",
      "(67, 'NTUSER.DAT{14b6a5f2-5c43-11eb-b882-18c04d2e6d42}.TMContainer00000000000000000002.regtrans-ms')\n",
      "(68, 'ntuser.ini')\n",
      "(69, 'OneDrive')\n",
      "(70, 'Pictures')\n",
      "(71, 'PrintHood')\n",
      "(72, 'Recent')\n",
      "(73, 'Saved Games')\n",
      "(74, 'Searches')\n",
      "(75, 'SendTo')\n",
      "(76, 'Start Menu')\n",
      "(77, 'Templates')\n",
      "(78, 'Veri Tipleri.png')\n",
      "(79, 'Videos')\n"
     ]
    }
   ],
   "source": [
    "dosyalar = os.listdir()\n",
    "for eleman in enumerate(dosyalar):\n",
    "    print(eleman)"
   ]
  },
  {
   "cell_type": "markdown",
   "metadata": {},
   "source": [
    "## Yeni Eleman Olusturma, Isim degistirme ve Silme"
   ]
  },
  {
   "cell_type": "code",
   "execution_count": 12,
   "metadata": {},
   "outputs": [],
   "source": [
    "os.mkdir('C:\\\\Users\\\\KODLAMA\\\\yeni')"
   ]
  },
  {
   "cell_type": "code",
   "execution_count": 13,
   "metadata": {},
   "outputs": [],
   "source": [
    "os.rmdir('C:\\\\Users\\\\KODLAMA\\\\yeni')"
   ]
  },
  {
   "cell_type": "code",
   "execution_count": 14,
   "metadata": {},
   "outputs": [],
   "source": [
    "## os.O_RDONLY − Read Only      - Sadece Oku\n",
    "## os.O_WRONLY − Write Only     - Sadece Yaz\n",
    "## os.O_RDWR   − Read and Write - Oku ve Yaz\n",
    "## os.O_CREAT  - Create         - Olustur"
   ]
  },
  {
   "cell_type": "code",
   "execution_count": 15,
   "metadata": {},
   "outputs": [],
   "source": [
    "yeni_dosya = os.open('yeni_dosya.txt', os.O_RDWR|os.O_CREAT)\n",
    "os.write(yeni_dosya, 'Merhaba Dünya!'.encode())\n",
    "os.close(yeni_dosya)"
   ]
  },
  {
   "cell_type": "code",
   "execution_count": 16,
   "metadata": {},
   "outputs": [
    {
     "name": "stdout",
     "output_type": "stream",
     "text": [
      "b'Merhaba D\\xc3'\n"
     ]
    }
   ],
   "source": [
    "yeni_dosya = os.open('yeni_dosya.txt', os.O_RDONLY)\n",
    "icerik = os.read(yeni_dosya, 10)\n",
    "print(icerik)\n",
    "os.close(yeni_dosya)"
   ]
  },
  {
   "cell_type": "code",
   "execution_count": 17,
   "metadata": {},
   "outputs": [
    {
     "name": "stdout",
     "output_type": "stream",
     "text": [
      "os.stat_result(st_mode=33206, st_ino=18577348462978932, st_dev=171910943, st_nlink=1, st_uid=0, st_gid=0, st_size=15, st_atime=1622365656, st_mtime=1622365656, st_ctime=1622365656)\n"
     ]
    }
   ],
   "source": [
    "yeni_dosya = os.open('yeni_dosya.txt', os.O_RDONLY)\n",
    "istatistik = os.stat(yeni_dosya)\n",
    "print(istatistik)\n",
    "os.close(yeni_dosya)"
   ]
  },
  {
   "cell_type": "code",
   "execution_count": 18,
   "metadata": {},
   "outputs": [
    {
     "name": "stdout",
     "output_type": "stream",
     "text": [
      "15\n"
     ]
    }
   ],
   "source": [
    "yeni_dosya = os.open('yeni_dosya.txt', os.O_RDONLY)\n",
    "istatistik = os.stat(yeni_dosya).st_size\n",
    "print(istatistik)\n",
    "os.close(yeni_dosya)"
   ]
  },
  {
   "cell_type": "code",
   "execution_count": 19,
   "metadata": {},
   "outputs": [
    {
     "name": "stdout",
     "output_type": "stream",
     "text": [
      "b'Merhaba D\\xc3\\xbcnya!'\n"
     ]
    }
   ],
   "source": [
    "yeni_dosya = os.open('yeni_dosya.txt', os.O_RDONLY)\n",
    "uzunluk = os.stat(yeni_dosya).st_size\n",
    "icerik = os.read(yeni_dosya, uzunluk)\n",
    "print(icerik)\n",
    "os.close(yeni_dosya)"
   ]
  },
  {
   "cell_type": "code",
   "execution_count": 20,
   "metadata": {},
   "outputs": [
    {
     "name": "stdout",
     "output_type": "stream",
     "text": [
      "Merhaba Dünya!\n"
     ]
    }
   ],
   "source": [
    "yeni_dosya = os.open('yeni_dosya.txt', os.O_RDONLY)\n",
    "uzunluk = os.stat(yeni_dosya).st_size\n",
    "icerik = os.read(yeni_dosya, uzunluk)\n",
    "print(icerik.decode())\n",
    "os.close(yeni_dosya)"
   ]
  },
  {
   "cell_type": "code",
   "execution_count": 21,
   "metadata": {},
   "outputs": [],
   "source": [
    "os.unlink('yeni_dosya.txt')"
   ]
  },
  {
   "cell_type": "code",
   "execution_count": 22,
   "metadata": {
    "scrolled": true
   },
   "outputs": [],
   "source": [
    "os.mkdir('deneme')"
   ]
  },
  {
   "cell_type": "code",
   "execution_count": 23,
   "metadata": {},
   "outputs": [],
   "source": [
    "os.rename('deneme', 'deneme_degil')"
   ]
  }
 ],
 "metadata": {
  "kernelspec": {
   "display_name": "Python 3",
   "language": "python",
   "name": "python3"
  },
  "language_info": {
   "codemirror_mode": {
    "name": "ipython",
    "version": 3
   },
   "file_extension": ".py",
   "mimetype": "text/x-python",
   "name": "python",
   "nbconvert_exporter": "python",
   "pygments_lexer": "ipython3",
   "version": "3.8.5"
  }
 },
 "nbformat": 4,
 "nbformat_minor": 4
}
