{
 "cells": [
  {
   "cell_type": "markdown",
   "metadata": {},
   "source": [
    "# Dunder Methods"
   ]
  },
  {
   "cell_type": "code",
   "execution_count": 38,
   "metadata": {},
   "outputs": [],
   "source": [
    "class Tren():\n",
    "    istasyon = 'Harbiye'\n",
    "    \n",
    "    def __init__(self, kod, kalkis, varis, vagon_sayisi, kapasite, yolcu):\n",
    "        self.kod = kod\n",
    "        self.kalkis = kalkis\n",
    "        self.varis = varis\n",
    "        self.vagon_sayisi = vagon_sayisi\n",
    "        self.kapasite = kapasite\n",
    "        self.yolcu = yolcu\n",
    "    \n",
    "    def anons(self):\n",
    "        print('{} kodlu, {} vagonlu tren {} istasyonundan kalkicak olup {}-{} arasi seferi {} yolcuyla yapacaktir. Iyi yolculuklar dileriz'\n",
    "              .format(self.kod, self.vagon_sayisi, self.istasyon, self.kalkis,self.varis, self.yolcu ))\n",
    "    \n",
    "    def koltuk_sayisi_guncelle(self):\n",
    "        return self.kapasite - self.yolcu\n",
    "    \n",
    "    def bilet_satis(self, bilet_adedi=1):\n",
    "        if self.yolcu + bilet_adedi <= self.kapasite:\n",
    "            self.yolcu += bilet_adedi\n",
    "            print('{} kadar koltuk satilmistir, kalan koltuk sayisi {}'.format(bilet_adedi, self.koltuk_sayisi_guncelle()))\n",
    "        else:\n",
    "            print('Yetersiz koltuk sayisi')\n",
    "            \n",
    "    def bilet_iptal(self, bilet_adedi=1):\n",
    "        if self.yolcu >= bilet_adedi:\n",
    "            self.yolcu -= bilet_adedi\n",
    "            print('{} adet koltuk iptal edilmistir. Guncel koltuk sayisi {}'.format(bilet_adedi, self.koltuk_sayisi_guncelle()))\n",
    "        else:\n",
    "            print('Iptal edilecek kadar yolcu kaydi yapilmamistir.')"
   ]
  },
  {
   "cell_type": "code",
   "execution_count": 52,
   "metadata": {},
   "outputs": [],
   "source": [
    "tren1 = Tren('EI', 'Eskisehir', 'Istanbul', 8, 100, 50)"
   ]
  },
  {
   "cell_type": "code",
   "execution_count": 55,
   "metadata": {
    "scrolled": true
   },
   "outputs": [
    {
     "data": {
      "text/plain": [
       "['kod',\n",
       " 'kalkis',\n",
       " 'varis',\n",
       " 'vagon_sayisi',\n",
       " 'kapasite',\n",
       " 'yolcu',\n",
       " '__module__',\n",
       " 'istasyon',\n",
       " '__init__',\n",
       " '__repr__',\n",
       " 'anons',\n",
       " 'koltuk_sayisi_guncelle',\n",
       " 'bilet_satis',\n",
       " 'bilet_iptal',\n",
       " '__dict__',\n",
       " '__weakref__',\n",
       " '__doc__',\n",
       " '__hash__',\n",
       " '__str__',\n",
       " '__getattribute__',\n",
       " '__setattr__',\n",
       " '__delattr__',\n",
       " '__lt__',\n",
       " '__le__',\n",
       " '__eq__',\n",
       " '__ne__',\n",
       " '__gt__',\n",
       " '__ge__',\n",
       " '__new__',\n",
       " '__reduce_ex__',\n",
       " '__reduce__',\n",
       " '__subclasshook__',\n",
       " '__init_subclass__',\n",
       " '__format__',\n",
       " '__sizeof__',\n",
       " '__dir__',\n",
       " '__class__']"
      ]
     },
     "execution_count": 55,
     "metadata": {},
     "output_type": "execute_result"
    }
   ],
   "source": [
    "tren1.__dir__()"
   ]
  },
  {
   "cell_type": "code",
   "execution_count": 56,
   "metadata": {},
   "outputs": [
    {
     "data": {
      "text/plain": [
       "EI kodlu tren, sistemde olusturulmustur.."
      ]
     },
     "execution_count": 56,
     "metadata": {},
     "output_type": "execute_result"
    }
   ],
   "source": [
    "tren1"
   ]
  },
  {
   "cell_type": "code",
   "execution_count": 57,
   "metadata": {},
   "outputs": [],
   "source": [
    "class Tren():\n",
    "    istasyon = 'Harbiye'\n",
    "    \n",
    "    def __init__(self, kod, kalkis, varis, vagon_sayisi, kapasite, yolcu):\n",
    "        self.kod = kod\n",
    "        self.kalkis = kalkis\n",
    "        self.varis = varis\n",
    "        self.vagon_sayisi = vagon_sayisi\n",
    "        self.kapasite = kapasite\n",
    "        self.yolcu = yolcu\n",
    "        \n",
    "    def __repr__(self):\n",
    "        return \"{} kodlu tren, sistemde olusturulmustur..\".format(self.kod)\n",
    "    \n",
    "    def anons(self):\n",
    "        print('{} kodlu, {} vagonlu tren {} istasyonundan kalkicak olup {}-{} arasi seferi {} yolcuyla yapacaktir. Iyi yolculuklar dileriz'\n",
    "              .format(self.kod, self.vagon_sayisi, self.istasyon, self.kalkis,self.varis, self.yolcu ))\n",
    "    \n",
    "    def koltuk_sayisi_guncelle(self):\n",
    "        return self.kapasite - self.yolcu\n",
    "    \n",
    "    def bilet_satis(self, bilet_adedi=1):\n",
    "        if self.yolcu + bilet_adedi <= self.kapasite:\n",
    "            self.yolcu += bilet_adedi\n",
    "            print('{} kadar koltuk satilmistir, kalan koltuk sayisi {}'.format(bilet_adedi, self.koltuk_sayisi_guncelle()))\n",
    "        else:\n",
    "            print('Yetersiz koltuk sayisi')\n",
    "            \n",
    "    def bilet_iptal(self, bilet_adedi=1):\n",
    "        if self.yolcu >= bilet_adedi:\n",
    "            self.yolcu -= bilet_adedi\n",
    "            print('{} adet koltuk iptal edilmistir. Guncel koltuk sayisi {}'.format(bilet_adedi, self.koltuk_sayisi_guncelle()))\n",
    "        else:\n",
    "            print('Iptal edilecek kadar yolcu kaydi yapilmamistir.')"
   ]
  },
  {
   "cell_type": "code",
   "execution_count": 54,
   "metadata": {
    "scrolled": true
   },
   "outputs": [
    {
     "data": {
      "text/plain": [
       "EI kodlu tren, sistemde olusturulmustur.."
      ]
     },
     "execution_count": 54,
     "metadata": {},
     "output_type": "execute_result"
    }
   ],
   "source": [
    "tren1"
   ]
  },
  {
   "cell_type": "markdown",
   "metadata": {},
   "source": [
    "# Kalitim (Inheritance)"
   ]
  },
  {
   "cell_type": "code",
   "execution_count": 84,
   "metadata": {},
   "outputs": [],
   "source": [
    "class Seyahat():\n",
    "    def __init__(self, kalkis, varis):\n",
    "        self.kalkis=kalkis\n",
    "        self.varis=varis\n",
    "    \n",
    "    def anons(self):\n",
    "        return '{}-{} seyahatine hosgeldiniz'.format(self.kalkis, self.varis)\n",
    "\n",
    "class Otobus(Seyahat):\n",
    "    def __init__(self, mola_duraklari, kalkis ,varis):\n",
    "        Seyahat.__init__(self, kalkis, varis)\n",
    "        self.mola_duraklari=mola_duraklari"
   ]
  },
  {
   "cell_type": "code",
   "execution_count": 85,
   "metadata": {},
   "outputs": [
    {
     "data": {
      "text/plain": [
       "'ANT-BOD seyahatine hosgeldiniz'"
      ]
     },
     "execution_count": 85,
     "metadata": {},
     "output_type": "execute_result"
    }
   ],
   "source": [
    "seyahat1 = Seyahat('ANT', 'BOD')\n",
    "seyahat1.anons()"
   ]
  },
  {
   "cell_type": "code",
   "execution_count": 92,
   "metadata": {},
   "outputs": [],
   "source": [
    "oto1 = Otobus(['FET', 'ALAN'], 'ANT', 'BOD')"
   ]
  },
  {
   "cell_type": "code",
   "execution_count": 93,
   "metadata": {},
   "outputs": [
    {
     "data": {
      "text/plain": [
       "['FET', 'ALAN']"
      ]
     },
     "execution_count": 93,
     "metadata": {},
     "output_type": "execute_result"
    }
   ],
   "source": [
    "oto1.mola_duraklari"
   ]
  },
  {
   "cell_type": "code",
   "execution_count": 94,
   "metadata": {},
   "outputs": [
    {
     "data": {
      "text/plain": [
       "'ANT'"
      ]
     },
     "execution_count": 94,
     "metadata": {},
     "output_type": "execute_result"
    }
   ],
   "source": [
    "oto1.kalkis"
   ]
  },
  {
   "cell_type": "code",
   "execution_count": 95,
   "metadata": {
    "scrolled": true
   },
   "outputs": [
    {
     "data": {
      "text/plain": [
       "'ANT-BOD seyahatine hosgeldiniz'"
      ]
     },
     "execution_count": 95,
     "metadata": {},
     "output_type": "execute_result"
    }
   ],
   "source": [
    "oto1.anons()"
   ]
  }
 ],
 "metadata": {
  "kernelspec": {
   "display_name": "Python 3",
   "language": "python",
   "name": "python3"
  },
  "language_info": {
   "codemirror_mode": {
    "name": "ipython",
    "version": 3
   },
   "file_extension": ".py",
   "mimetype": "text/x-python",
   "name": "python",
   "nbconvert_exporter": "python",
   "pygments_lexer": "ipython3",
   "version": "3.8.5"
  }
 },
 "nbformat": 4,
 "nbformat_minor": 4
}
