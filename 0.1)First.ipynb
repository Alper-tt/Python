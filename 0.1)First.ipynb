{
 "cells": [
  {
   "cell_type": "code",
   "execution_count": null,
   "metadata": {},
   "outputs": [],
   "source": [
    " #################################################################\n",
    " ###    Tip     ###  Kisaltma  ###             Örnek           ###\n",
    " ### --------------------------------------------------------- ###\n",
    " ###  Integer   ###    int     ###             3, 10           ###\n",
    " ###   Float    ###   float    ###            1.5, 7.0         ###\n",
    " ###   String   ###    str     ###           \"S3m\", '2'        ###\n",
    " ###  Boolean   ###    bool    ###          True, False        ###\n",
    " ###    List    ###    list    ###      [1,2,True, 'a', 1]     ###\n",
    " ###    Set     ###    set     ###         {1,2,True, 'a'}     ###\n",
    " ### Dictionary ###    dict    ### {'isim': 'Mesut, 'yas': 32} ###\n",
    " ###    Tuple   ###    tup     ###         (1, 2, True)        ###\n",
    " #################################################################"
   ]
  },
  {
   "cell_type": "code",
   "execution_count": 19,
   "metadata": {},
   "outputs": [
    {
     "name": "stdout",
     "output_type": "stream",
     "text": [
      "sa \n",
      "nabiyon bea\n",
      "as \tsen nabiyon bea\n"
     ]
    }
   ],
   "source": [
    "print(\"sa \\nnabiyon bea\")\n",
    "print(\"as \\tsen nabiyon bea\")"
   ]
  },
  {
   "cell_type": "code",
   "execution_count": 8,
   "metadata": {
    "scrolled": false
   },
   "outputs": [
    {
     "name": "stdout",
     "output_type": "stream",
     "text": [
      "Benim adim Alper\n",
      "Benim adim Alper, yasim 32\n",
      "Username alperbey00, password Alper_123_bjk\n"
     ]
    }
   ],
   "source": [
    "print(\"Benim adim {}\".format(\"Alper\"))\n",
    "print(\"Benim adim {}, yasim {}\".format(\"Alper\", 32))\n",
    "print(\"Username {0}, password {1}\".format(\"alperbey00\", \"Alper_123_bjk\", (20+11)))"
   ]
  },
  {
   "cell_type": "code",
   "execution_count": 27,
   "metadata": {
    "scrolled": false
   },
   "outputs": [
    {
     "name": "stdout",
     "output_type": "stream",
     "text": [
      "10\n"
     ]
    }
   ],
   "source": [
    "sayi = 10\n",
    "print (sayi)"
   ]
  },
  {
   "cell_type": "code",
   "execution_count": 28,
   "metadata": {},
   "outputs": [
    {
     "name": "stdout",
     "output_type": "stream",
     "text": [
      "11\n"
     ]
    }
   ],
   "source": [
    "sayi = 11\n",
    "print(sayi)"
   ]
  },
  {
   "cell_type": "code",
   "execution_count": 29,
   "metadata": {},
   "outputs": [
    {
     "name": "stdout",
     "output_type": "stream",
     "text": [
      "12\n"
     ]
    }
   ],
   "source": [
    "sayi = sayi + 1\n",
    "print (sayi)"
   ]
  },
  {
   "cell_type": "code",
   "execution_count": 71,
   "metadata": {},
   "outputs": [
    {
     "name": "stdout",
     "output_type": "stream",
     "text": [
      "12.0\n"
     ]
    }
   ],
   "source": [
    "sayi = (12*2) /2\n",
    "print(sayi)"
   ]
  },
  {
   "cell_type": "code",
   "execution_count": 30,
   "metadata": {},
   "outputs": [
    {
     "name": "stdout",
     "output_type": "stream",
     "text": [
      "1\n"
     ]
    }
   ],
   "source": [
    "sayi_ilk = 1\n",
    "print(sayi_ilk)\n"
   ]
  },
  {
   "cell_type": "code",
   "execution_count": 25,
   "metadata": {
    "scrolled": true
   },
   "outputs": [
    {
     "name": "stdout",
     "output_type": "stream",
     "text": [
      "Username \n",
      "alper\n",
      "Surname \n",
      "topraktepe\n"
     ]
    }
   ],
   "source": [
    "print(\"Username \\n{0}\\nSurname \\n{1}\".format(\"alper\", \"topraktepe\"))"
   ]
  },
  {
   "cell_type": "code",
   "execution_count": 38,
   "metadata": {
    "scrolled": true
   },
   "outputs": [
    {
     "name": "stdout",
     "output_type": "stream",
     "text": [
      "alper\n"
     ]
    }
   ],
   "source": [
    "sayi = \"alper\"\n",
    "print(sayi)"
   ]
  },
  {
   "cell_type": "code",
   "execution_count": 32,
   "metadata": {},
   "outputs": [
    {
     "name": "stdout",
     "output_type": "stream",
     "text": [
      "11\n"
     ]
    }
   ],
   "source": [
    "sayi = 10\n",
    "sayi= sayi +1\n",
    "print(sayi)"
   ]
  },
  {
   "cell_type": "code",
   "execution_count": 33,
   "metadata": {
    "scrolled": false
   },
   "outputs": [
    {
     "name": "stdout",
     "output_type": "stream",
     "text": [
      "banner vac\n",
      "pw 123\n"
     ]
    }
   ],
   "source": [
    "print(\"banner {}pw {}\".format(\"vac\\n\",123))"
   ]
  },
  {
   "cell_type": "code",
   "execution_count": 34,
   "metadata": {
    "scrolled": true
   },
   "outputs": [
    {
     "data": {
      "text/plain": [
       "int"
      ]
     },
     "execution_count": 34,
     "metadata": {},
     "output_type": "execute_result"
    }
   ],
   "source": [
    "type(7)"
   ]
  },
  {
   "cell_type": "code",
   "execution_count": 3,
   "metadata": {
    "scrolled": false
   },
   "outputs": [
    {
     "data": {
      "text/plain": [
       "float"
      ]
     },
     "execution_count": 3,
     "metadata": {},
     "output_type": "execute_result"
    }
   ],
   "source": [
    "type(7.0)"
   ]
  },
  {
   "cell_type": "code",
   "execution_count": 5,
   "metadata": {
    "scrolled": false
   },
   "outputs": [
    {
     "name": "stdout",
     "output_type": "stream",
     "text": [
      "Topraktepe\n"
     ]
    }
   ],
   "source": [
    "strvar = \"Topraktepe\"\n",
    "print(strvar)"
   ]
  }
 ],
 "metadata": {
  "kernelspec": {
   "display_name": "Python 3",
   "language": "python",
   "name": "python3"
  },
  "language_info": {
   "codemirror_mode": {
    "name": "ipython",
    "version": 3
   },
   "file_extension": ".py",
   "mimetype": "text/x-python",
   "name": "python",
   "nbconvert_exporter": "python",
   "pygments_lexer": "ipython3",
   "version": "3.8.5"
  }
 },
 "nbformat": 4,
 "nbformat_minor": 4
}
