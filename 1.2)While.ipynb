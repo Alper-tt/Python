{
 "cells": [
  {
   "cell_type": "markdown",
   "metadata": {},
   "source": [
    "# while Döngüleri"
   ]
  },
  {
   "cell_type": "raw",
   "metadata": {},
   "source": [
    "while <sart dogruyken>:\n",
    "    <burda yazilani yap>"
   ]
  },
  {
   "cell_type": "raw",
   "metadata": {},
   "source": [
    "Faktöriyel Hesabi\n",
    "3! = 3 * 2 * 1\n",
    "6! = 6 * 5 * 4 * 3 * 2 * 1"
   ]
  },
  {
   "cell_type": "code",
   "execution_count": 1,
   "metadata": {},
   "outputs": [
    {
     "name": "stdout",
     "output_type": "stream",
     "text": [
      "720\n"
     ]
    }
   ],
   "source": [
    "x = 6\n",
    "sayi = 1\n",
    "while x > 1:\n",
    "    sayi = sayi * x\n",
    "    x-=1\n",
    "print(sayi)"
   ]
  },
  {
   "cell_type": "code",
   "execution_count": 29,
   "metadata": {
    "scrolled": true
   },
   "outputs": [
    {
     "name": "stdout",
     "output_type": "stream",
     "text": [
      "0 10 dan kucuk!!!\n",
      "1 10 dan kucuk!!!\n",
      "2 10 dan kucuk!!!\n",
      "3 10 dan kucuk!!!\n",
      "4 10 dan kucuk!!!\n",
      "5 10 dan kucuk!!!\n",
      "6 10 dan kucuk!!!\n",
      "7 10 dan kucuk!!!\n",
      "8 10 dan kucuk!!!\n",
      "9 10 dan kucuk!!!\n",
      "Sayi istenilen degere esitlendi!!!\n",
      "Sistem kapaniyor!!!\n"
     ]
    }
   ],
   "source": [
    "x = 0\n",
    "while x<10:\n",
    "    print('{} 10 dan kucuk!!!'.format(x))\n",
    "    x+=1\n",
    "    \n",
    "else:\n",
    "        print('Sayi istenilen degere esitlendi!!!')\n",
    "        print('Sistem kapaniyor!!!')"
   ]
  },
  {
   "cell_type": "code",
   "execution_count": 24,
   "metadata": {},
   "outputs": [
    {
     "data": {
      "text/plain": [
       "'ALPER'"
      ]
     },
     "execution_count": 24,
     "metadata": {},
     "output_type": "execute_result"
    }
   ],
   "source": [
    "strvar = 'alper'\n",
    "strvar.upper()"
   ]
  },
  {
   "cell_type": "code",
   "execution_count": 3,
   "metadata": {},
   "outputs": [
    {
     "name": "stdout",
     "output_type": "stream",
     "text": [
      "120\n"
     ]
    }
   ],
   "source": [
    "sayi = 5\n",
    "x = 1\n",
    "while sayi>0:\n",
    "    x = x * sayi\n",
    "    sayi -=1\n",
    "print(x)"
   ]
  }
 ],
 "metadata": {
  "kernelspec": {
   "display_name": "Python 3",
   "language": "python",
   "name": "python3"
  },
  "language_info": {
   "codemirror_mode": {
    "name": "ipython",
    "version": 3
   },
   "file_extension": ".py",
   "mimetype": "text/x-python",
   "name": "python",
   "nbconvert_exporter": "python",
   "pygments_lexer": "ipython3",
   "version": "3.8.5"
  }
 },
 "nbformat": 4,
 "nbformat_minor": 4
}
